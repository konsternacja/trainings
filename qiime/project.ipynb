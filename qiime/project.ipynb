{
 "cells": [
  {
   "cell_type": "code",
   "execution_count": 3,
   "metadata": {
    "vscode": {
     "languageId": "python"
    }
   },
   "outputs": [
    {
     "name": "stdout",
     "output_type": "stream",
     "text": [
      "\u001b[32mImported pe-33-manifest as PairedEndFastqManifestPhred33V2 to paired-end-demux.qza\u001b[0m\n",
      "\u001b[0m\n"
     ]
    }
   ],
   "source": [
    "#demultiplexed data\n",
    "qiime tools import \\\n",
    "  --type 'SampleData[PairedEndSequencesWithQuality]' \\\n",
    "  --input-path pe-33-manifest \\\n",
    "  --output-path paired-end-demux.qza \\\n",
    "  --input-format PairedEndFastqManifestPhred33V2"
   ]
  },
  {
   "cell_type": "code",
   "execution_count": 5,
   "metadata": {
    "vscode": {
     "languageId": "python"
    }
   },
   "outputs": [
    {
     "name": "stdout",
     "output_type": "stream",
     "text": [
      "\u001b[32mSaved Visualization to: paired-end-demux.qzv\u001b[0m\n",
      "\u001b[0m\n"
     ]
    }
   ],
   "source": [
    "#demultiplexed visualisation\n",
    "qiime demux summarize \\\n",
    "  --i-data paired-end-demux.qza \\\n",
    "  --o-visualization paired-end-demux.qzv"
   ]
  },
  {
   "cell_type": "code",
   "execution_count": 4,
   "metadata": {
    "vscode": {
     "languageId": "python"
    }
   },
   "outputs": [
    {
     "name": "stdout",
     "output_type": "stream",
     "text": [
      "Running external command line application(s). This may print messages to stdout and/or stderr.\n",
      "The command(s) being run are below. These commands cannot be manually re-run as they will depend on temporary files that no longer exist.\n",
      "\n",
      "Command: run_dada.R --input_directory /tmp/tmp6i5uzhfn/forward --input_directory_reverse /tmp/tmp6i5uzhfn/reverse --output_path /tmp/tmp6i5uzhfn/output.tsv.biom --output_track /tmp/tmp6i5uzhfn/track.tsv --filtered_directory /tmp/tmp6i5uzhfn/filt_f --filtered_directory_reverse /tmp/tmp6i5uzhfn/filt_r --truncation_length 220 --truncation_length_reverse 160 --trim_left 21 --trim_left_reverse 20 --max_expected_errors 2.0 --max_expected_errors_reverse 2.0 --truncation_quality_score 2 --min_overlap 12 --pooling_method independent --chimera_method consensus --min_parental_fold 1.0 --allow_one_off False --num_threads 8 --learn_min_reads 1000000\n",
      "\n",
      "R version 4.2.2 (2022-10-31) \n",
      "Loading required package: Rcpp\n",
      "\u001b[?25hDADA2: 1.26.0 / Rcpp: 1.0.10 / RcppParallel: 5.1.6 \n",
      "\u001b[?25h\u001b[?25h2) Filtering \u001b[?25h\u001b[?25h.\u001b[?25h\u001b[?25h\u001b[?25h\n",
      "\u001b[?25h\u001b[?25h3) Learning Error Rates\n",
      "\u001b[?25h12872912 total bases in 64688 reads from 1 samples will be used for learning the error rates.\n",
      "9056320 total bases in 64688 reads from 1 samples will be used for learning the error rates.\n",
      "\u001b[?25h3) Denoise samples .\n",
      ".\n",
      "\u001b[?25h5) Remove chimeras (method = consensus)\n",
      "\u001b[?25h\u001b[?25h6) Report read numbers through the pipeline\n",
      "\u001b[?25h\u001b[?25h7) Write output\n",
      "\u001b[?25h\u001b[?25h\u001b[?25h\u001b[?25h\u001b[?25h\u001b[?25h\u001b[?25h\u001b[32mSaved FeatureTable[Frequency] to: 16S-table.qza\u001b[0m\n",
      "\u001b[32mSaved FeatureData[Sequence] to: 16S-rep-seqs.qza\u001b[0m\n",
      "\u001b[32mSaved SampleData[DADA2Stats] to: 16S-denoising-stats.qza\u001b[0m\n",
      "\u001b[0m\n"
     ]
    }
   ],
   "source": [
    "#denoising data\n",
    "qiime dada2 denoise-paired \\\n",
    "  --i-demultiplexed-seqs paired-end-demux.qza \\\n",
    "  --p-trim-left-f 21 \\\n",
    "  --p-trim-left-r 20 \\\n",
    "  --p-trunc-len-f 220 \\\n",
    "  --p-trunc-len-r 160 \\\n",
    "  --p-n-threads 8 \\\n",
    "  --o-table 16S-table.qza \\\n",
    "  --o-representative-sequences 16S-rep-seqs.qza \\\n",
    "  --o-denoising-stats 16S-denoising-stats.qza \\\n",
    "  --verbose"
   ]
  },
  {
   "cell_type": "code",
   "execution_count": 7,
   "metadata": {
    "vscode": {
     "languageId": "python"
    }
   },
   "outputs": [
    {
     "name": "stdout",
     "output_type": "stream",
     "text": [
      "\u001b[32mSaved Visualization to: 16S-denoising-stats.qzv\u001b[0m\n",
      "\u001b[0m\n",
      "\u001b[31m\u001b[1mThere was an issue with loading the file metadata.txt as metadata:\n",
      "\n",
      "  Metadata file path doesn't exist, or the path points to something other than a file. Please check that the path exists, has read permissions, and points to a regular file (not a directory): metadata.txt\n",
      "\n",
      "  There may be more errors present in the metadata file. To get a full report, sample/feature metadata files can be validated with Keemei: https://keemei.qiime2.org\n",
      "\n",
      "  Find details on QIIME 2 metadata requirements here: https://docs.qiime2.org/2023.2/tutorials/metadata/\u001b[0m\n",
      "\n",
      "\u001b[0m\n",
      "\u001b[32mSaved Visualization to: 16S-rep-seqs.qzv\u001b[0m\n",
      "\u001b[0m\n"
     ]
    }
   ],
   "source": [
    "qiime metadata tabulate \\\n",
    "  --m-input-file 16S-denoising-stats.qza \\\n",
    "  --o-visualization 16S-denoising-stats.qzv\n",
    "\n",
    "# qiime feature-table summarize \\\n",
    "#   --i-table 16S-table.qza \\\n",
    "#   --o-visualization 16S-table.qzv \\\n",
    "#   --m-sample-metadata-file metadata.txt\n",
    "\n",
    "qiime feature-table tabulate-seqs \\\n",
    "  --i-data 16S-rep-seqs.qza \\\n",
    "  --o-visualization 16S-rep-seqs.qzv\n"
   ]
  },
  {
   "cell_type": "code",
   "execution_count": 11,
   "metadata": {
    "vscode": {
     "languageId": "python"
    }
   },
   "outputs": [],
   "source": [
    "#qiime tools view 16S-denoising-stats.qzv\n",
    "#qiime tools view 16S-rep-seqs.qzv"
   ]
  },
  {
   "cell_type": "code",
   "execution_count": 3,
   "metadata": {
    "vscode": {
     "languageId": "python"
    }
   },
   "outputs": [
    {
     "name": "stdout",
     "output_type": "stream",
     "text": [
      "--2023-03-19 11:07:02--  https://data.qiime2.org/2019.1/tutorials/training-feature-classifiers/85_otus.fasta\n",
      "Resolving data.qiime2.org (data.qiime2.org)... 54.200.1.12\n",
      "Connecting to data.qiime2.org (data.qiime2.org)|54.200.1.12|:443... connected.\n",
      "HTTP request sent, awaiting response... 302 FOUND\n",
      "Location: https://s3-us-west-2.amazonaws.com/qiime2-data/2019.1/tutorials/training-feature-classifiers/85_otus.fasta [following]\n",
      "--2023-03-19 11:07:03--  https://s3-us-west-2.amazonaws.com/qiime2-data/2019.1/tutorials/training-feature-classifiers/85_otus.fasta\n",
      "Resolving s3-us-west-2.amazonaws.com (s3-us-west-2.amazonaws.com)... 52.92.242.232, 52.218.221.144, 52.92.128.168, ...\n",
      "Connecting to s3-us-west-2.amazonaws.com (s3-us-west-2.amazonaws.com)|52.92.242.232|:443... connected.\n",
      "HTTP request sent, awaiting response... 200 OK\n",
      "Length: 7324324 (7.0M) [binary/octet-stream]\n",
      "Saving to: ‘85_otus.fasta’\n",
      "\n",
      "85_otus.fasta       100%[===================>]   6.98M  1.49MB/s    in 7.0s    \n",
      "\n",
      "2023-03-19 11:07:11 (1.00 MB/s) - ‘85_otus.fasta’ saved [7324324/7324324]\n",
      "\n"
     ]
    }
   ],
   "source": [
    "wget \\\n",
    "  -O \"85_otus.fasta\" \\\n",
    "  \"https://data.qiime2.org/2019.1/tutorials/training-feature-classifiers/85_otus.fasta\""
   ]
  },
  {
   "cell_type": "code",
   "execution_count": 4,
   "metadata": {
    "vscode": {
     "languageId": "python"
    }
   },
   "outputs": [
    {
     "name": "stdout",
     "output_type": "stream",
     "text": [
      "--2023-03-19 11:07:11--  https://data.qiime2.org/2019.1/tutorials/training-feature-classifiers/85_otu_taxonomy.txt\n",
      "Resolving data.qiime2.org (data.qiime2.org)... 54.200.1.12\n",
      "Connecting to data.qiime2.org (data.qiime2.org)|54.200.1.12|:443... connected.\n",
      "HTTP request sent, awaiting response... 302 FOUND\n",
      "Location: https://s3-us-west-2.amazonaws.com/qiime2-data/2019.1/tutorials/training-feature-classifiers/85_otu_taxonomy.txt [following]\n",
      "--2023-03-19 11:07:12--  https://s3-us-west-2.amazonaws.com/qiime2-data/2019.1/tutorials/training-feature-classifiers/85_otu_taxonomy.txt\n",
      "Resolving s3-us-west-2.amazonaws.com (s3-us-west-2.amazonaws.com)... 52.92.212.224, 52.218.229.160, 52.218.192.56, ...\n",
      "Connecting to s3-us-west-2.amazonaws.com (s3-us-west-2.amazonaws.com)|52.92.212.224|:443... connected.\n",
      "HTTP request sent, awaiting response... 200 OK\n",
      "Length: 452277 (442K) [text/plain]\n",
      "Saving to: ‘85_otu_taxonomy.txt’\n",
      "\n",
      "85_otu_taxonomy.txt 100%[===================>] 441.68K   226KB/s    in 2.0s    \n",
      "\n",
      "2023-03-19 11:07:15 (226 KB/s) - ‘85_otu_taxonomy.txt’ saved [452277/452277]\n",
      "\n"
     ]
    }
   ],
   "source": [
    "wget \\\n",
    "  -O \"85_otu_taxonomy.txt\" \\\n",
    "  \"https://data.qiime2.org/2019.1/tutorials/training-feature-classifiers/85_otu_taxonomy.txt\""
   ]
  },
  {
   "cell_type": "code",
   "execution_count": 5,
   "metadata": {
    "vscode": {
     "languageId": "python"
    }
   },
   "outputs": [
    {
     "name": "stdout",
     "output_type": "stream",
     "text": [
      "--2023-03-19 11:07:16--  https://data.qiime2.org/2019.1/tutorials/training-feature-classifiers/rep-seqs.qza\n",
      "Resolving data.qiime2.org (data.qiime2.org)... 54.200.1.12\n",
      "Connecting to data.qiime2.org (data.qiime2.org)|54.200.1.12|:443... connected.\n",
      "HTTP request sent, awaiting response... 302 FOUND\n",
      "Location: https://s3-us-west-2.amazonaws.com/qiime2-data/2019.1/tutorials/training-feature-classifiers/rep-seqs.qza [following]\n",
      "--2023-03-19 11:07:17--  https://s3-us-west-2.amazonaws.com/qiime2-data/2019.1/tutorials/training-feature-classifiers/rep-seqs.qza\n",
      "Resolving s3-us-west-2.amazonaws.com (s3-us-west-2.amazonaws.com)... 52.92.180.48, 52.92.165.200, 52.92.162.168, ...\n",
      "Connecting to s3-us-west-2.amazonaws.com (s3-us-west-2.amazonaws.com)|52.92.180.48|:443... connected.\n",
      "HTTP request sent, awaiting response... 200 OK\n",
      "Length: 39214 (38K) [binary/octet-stream]\n",
      "Saving to: ‘rep-seqs.qza’\n",
      "\n",
      "rep-seqs.qza        100%[===================>]  38.29K  93.0KB/s    in 0.4s    \n",
      "\n",
      "2023-03-19 11:07:18 (93.0 KB/s) - ‘rep-seqs.qza’ saved [39214/39214]\n",
      "\n"
     ]
    }
   ],
   "source": [
    "wget \\\n",
    "  -O \"rep-seqs.qza\" \\\n",
    "  \"https://data.qiime2.org/2019.1/tutorials/training-feature-classifiers/rep-seqs.qza\""
   ]
  },
  {
   "cell_type": "code",
   "execution_count": 6,
   "metadata": {
    "vscode": {
     "languageId": "python"
    }
   },
   "outputs": [
    {
     "name": "stdout",
     "output_type": "stream",
     "text": [
      "\u001b[32mImported 85_otus.fasta as DNASequencesDirectoryFormat to 85_otus.qza\u001b[0m\n",
      "\u001b[0m\n",
      "\u001b[32mImported 85_otu_taxonomy.txt as HeaderlessTSVTaxonomyFormat to ref-taxonomy.qza\u001b[0m\n",
      "\u001b[0m\n"
     ]
    }
   ],
   "source": [
    "qiime tools import \\\n",
    "  --type 'FeatureData[Sequence]' \\\n",
    "  --input-path 85_otus.fasta \\\n",
    "  --output-path 85_otus.qza\n",
    "\n",
    "qiime tools import \\\n",
    "  --type 'FeatureData[Taxonomy]' \\\n",
    "  --input-format HeaderlessTSVTaxonomyFormat \\\n",
    "  --input-path 85_otu_taxonomy.txt \\\n",
    "  --output-path ref-taxonomy.qza"
   ]
  },
  {
   "cell_type": "code",
   "execution_count": 9,
   "metadata": {
    "vscode": {
     "languageId": "python"
    }
   },
   "outputs": [
    {
     "name": "stdout",
     "output_type": "stream",
     "text": [
      "Traceback (most recent call last):\n",
      "  File \"/home/konsternacja/anaconda3/envs/qiime2-2023.2/lib/python3.8/site-packages/qiime2/core/archive/archiver.py\", line 366, in load\n",
      "    archive.mount(path)\n",
      "  File \"/home/konsternacja/anaconda3/envs/qiime2-2023.2/lib/python3.8/site-packages/qiime2/core/archive/archiver.py\", line 198, in mount\n",
      "    self.extract(filepath)\n",
      "  File \"/home/konsternacja/anaconda3/envs/qiime2-2023.2/lib/python3.8/site-packages/qiime2/core/archive/archiver.py\", line 212, in extract\n",
      "    zf.extract(name, path=str(filepath.parent))\n",
      "  File \"/home/konsternacja/anaconda3/envs/qiime2-2023.2/lib/python3.8/zipfile.py\", line 1630, in extract\n",
      "    return self._extract_member(member, path, pwd)\n",
      "  File \"/home/konsternacja/anaconda3/envs/qiime2-2023.2/lib/python3.8/zipfile.py\", line 1702, in _extract_member\n",
      "    shutil.copyfileobj(source, target)\n",
      "  File \"/home/konsternacja/anaconda3/envs/qiime2-2023.2/lib/python3.8/shutil.py\", line 208, in copyfileobj\n",
      "    fdst_write(buf)\n",
      "OSError: [Errno 28] No space left on device\n",
      "\n",
      "During handling of the above exception, another exception occurred:\n",
      "\n",
      "OSError: [Errno 28] No space left on device\n",
      "\n",
      "During handling of the above exception, another exception occurred:\n",
      "\n",
      "Traceback (most recent call last):\n",
      "  File \"/home/konsternacja/anaconda3/envs/qiime2-2023.2/lib/python3.8/site-packages/qiime2/sdk/result.py\", line 79, in load\n",
      "    archiver = archive.Archiver.load(filepath)\n",
      "  File \"/home/konsternacja/anaconda3/envs/qiime2-2023.2/lib/python3.8/site-packages/qiime2/core/archive/archiver.py\", line 377, in load\n",
      "    cls._destroy_temp_path(archive.uuid)\n",
      "  File \"/home/konsternacja/anaconda3/envs/qiime2-2023.2/lib/python3.8/site-packages/qiime2/core/archive/archiver.py\", line 300, in _destroy_temp_path\n",
      "    cache.process_pool.remove(str(process_alias))\n",
      "  File \"/home/konsternacja/anaconda3/envs/qiime2-2023.2/lib/python3.8/site-packages/qiime2/core/cache.py\", line 1541, in remove\n",
      "    with self.cache.lock:\n",
      "  File \"/home/konsternacja/anaconda3/envs/qiime2-2023.2/lib/python3.8/site-packages/qiime2/core/cache.py\", line 290, in __enter__\n",
      "    self.flufl_lock.lock()\n",
      "  File \"/home/konsternacja/anaconda3/envs/qiime2-2023.2/lib/python3.8/site-packages/flufl/lock/_lockfile.py\", line 328, in lock\n",
      "    self._write()\n",
      "  File \"/home/konsternacja/anaconda3/envs/qiime2-2023.2/lib/python3.8/site-packages/flufl/lock/_lockfile.py\", line 493, in _write\n",
      "    fp.write(self._claimfile)\n",
      "OSError: [Errno 28] No space left on device\n",
      "\n",
      "During handling of the above exception, another exception occurred:\n",
      "\n",
      "Traceback (most recent call last):\n",
      "  File \"/home/konsternacja/anaconda3/envs/qiime2-2023.2/lib/python3.8/site-packages/q2cli/util.py\", line 398, in _load_input_file\n",
      "    artifact = qiime2.sdk.Result.load(fp)\n",
      "  File \"/home/konsternacja/anaconda3/envs/qiime2-2023.2/lib/python3.8/site-packages/qiime2/sdk/result.py\", line 83, in load\n",
      "    raise ValueError(f'There was not enough space left on '\n",
      "ValueError: There was not enough space left on '/tmp' to extract the artifact 'silva-132-99-nb-classifier.qza'. (Try setting $TMPDIR to a directory with more space, or increasing the size of '/tmp')\n",
      "\n",
      "The above exception was the direct cause of the following exception:\n",
      "\n",
      "Traceback (most recent call last):\n",
      "  File \"/home/konsternacja/anaconda3/envs/qiime2-2023.2/lib/python3.8/site-packages/q2cli/click/type.py\", line 112, in _convert_input\n",
      "    result, error = q2cli.util._load_input(value)\n",
      "  File \"/home/konsternacja/anaconda3/envs/qiime2-2023.2/lib/python3.8/site-packages/q2cli/util.py\", line 352, in _load_input\n",
      "    artifact, error = _load_input_file(fp)\n",
      "  File \"/home/konsternacja/anaconda3/envs/qiime2-2023.2/lib/python3.8/site-packages/q2cli/util.py\", line 404, in _load_input_file\n",
      "    raise ValueError(\n",
      "ValueError: It looks like you have an Artifact but are missing the plugin(s) necessary to load it. Artifact has type 'TaxonomicClassifier' and format 'TaxonomicClassiferTemporaryPickleDirFmt'\n",
      "\n",
      "\u001b[31m\u001b[1mThere was a problem loading 'silva-132-99-nb-classifier.qza' as an artifact:\n",
      "\n",
      "  It looks like you have an Artifact but are missing the plugin(s) necessary to load it. Artifact has type 'TaxonomicClassifier' and format 'TaxonomicClassiferTemporaryPickleDirFmt'\n",
      "\n",
      "See above for debug info.\u001b[0m\n"
     ]
    }
   ],
   "source": [
    "qiime feature-classifier classify-sklearn \\\n",
    "  --i-classifier silva-132-99-nb-classifier.qza \\\n",
    "  --i-reads 16S-rep-seqs.qza \\\n",
    "  --o-classification 16S-rep-seqs-taxonomy.qza"
   ]
  },
  {
   "cell_type": "code",
   "execution_count": null,
   "metadata": {
    "vscode": {
     "languageId": "python"
    }
   },
   "outputs": [],
   "source": []
  }
 ],
 "metadata": {
  "kernelspec": {
   "display_name": "Bash",
   "language": "python",
   "name": "bash"
  },
  "language_info": {
   "codemirror_mode": "shell",
   "file_extension": ".sh",
   "mimetype": "text/x-sh",
   "name": "bash"
  },
  "orig_nbformat": 4
 },
 "nbformat": 4,
 "nbformat_minor": 2
}
