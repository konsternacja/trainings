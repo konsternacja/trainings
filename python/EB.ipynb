{
 "cells": [
  {
   "cell_type": "code",
   "execution_count": null,
   "metadata": {},
   "outputs": [],
   "source": [
    "# Write a Python program to calculate the area of a rectangle.\n",
    "def area(l, w):\n",
    "    return l*w"
   ]
  },
  {
   "cell_type": "code",
   "execution_count": 7,
   "metadata": {},
   "outputs": [],
   "source": [
    "# Create a function that checks if a given number is prime.\n",
    "def is_prime(n):\n",
    "    if n < 2:\n",
    "        return False\n",
    "    for i in range(2, n):\n",
    "        if n%i == 0:\n",
    "            return False\n",
    "    return True"
   ]
  },
  {
   "cell_type": "code",
   "execution_count": 21,
   "metadata": {},
   "outputs": [
    {
     "data": {
      "text/plain": [
       "True"
      ]
     },
     "execution_count": 21,
     "metadata": {},
     "output_type": "execute_result"
    }
   ],
   "source": [
    "is_prime(13)"
   ]
  },
  {
   "cell_type": "code",
   "execution_count": 9,
   "metadata": {},
   "outputs": [],
   "source": [
    "# Swap the values of two variables without using a temporary variable.\n",
    "def swap(a, b):\n",
    "    a, b = b, a\n",
    "    return a, b"
   ]
  },
  {
   "cell_type": "code",
   "execution_count": 10,
   "metadata": {},
   "outputs": [],
   "source": [
    "# Write a function that returns the sum of all elements in a list.\n",
    "def lsum(l):\n",
    "    return sum(l)"
   ]
  },
  {
   "cell_type": "code",
   "execution_count": 20,
   "metadata": {},
   "outputs": [
    {
     "data": {
      "text/plain": [
       "15"
      ]
     },
     "execution_count": 20,
     "metadata": {},
     "output_type": "execute_result"
    }
   ],
   "source": [
    "lsum([1, 2, 3, 4, 5])"
   ]
  },
  {
   "cell_type": "code",
   "execution_count": 18,
   "metadata": {},
   "outputs": [],
   "source": [
    "# Create a program that prints the Fibonacci sequence up to a specified number of terms.\n",
    "def fibonacci(n):\n",
    "    fib_sequence = [0,1]\n",
    "    for i in range(2, n):\n",
    "        next_number = fib_sequence[-1] + fib_sequence[-2]\n",
    "        fib_sequence.append(next_number)\n",
    "    return fib_sequence[1:]"
   ]
  },
  {
   "cell_type": "code",
   "execution_count": 19,
   "metadata": {},
   "outputs": [
    {
     "data": {
      "text/plain": [
       "[1, 1, 2, 3, 5]"
      ]
     },
     "execution_count": 19,
     "metadata": {},
     "output_type": "execute_result"
    }
   ],
   "source": [
    "fibonacci(6)"
   ]
  },
  {
   "cell_type": "code",
   "execution_count": 44,
   "metadata": {},
   "outputs": [],
   "source": [
    "# Remove duplicate elements from a list.\n",
    "def remove_duplicates(l):\n",
    "    return list(set(l))"
   ]
  },
  {
   "cell_type": "code",
   "execution_count": 45,
   "metadata": {},
   "outputs": [
    {
     "data": {
      "text/plain": [
       "[1, 3, 4, 5, 8, 78]"
      ]
     },
     "execution_count": 45,
     "metadata": {},
     "output_type": "execute_result"
    }
   ],
   "source": [
    "remove_duplicates([1,1,3,4,5,78,8,8])"
   ]
  },
  {
   "cell_type": "code",
   "execution_count": 26,
   "metadata": {},
   "outputs": [],
   "source": [
    "# Write a function to check if a given string is a palindrome\n",
    "def check_palindrome(s):\n",
    "    return s == s[::-1]"
   ]
  },
  {
   "cell_type": "code",
   "execution_count": 29,
   "metadata": {},
   "outputs": [
    {
     "data": {
      "text/plain": [
       "True"
      ]
     },
     "execution_count": 29,
     "metadata": {},
     "output_type": "execute_result"
    }
   ],
   "source": [
    "check_palindrome('ATTT')"
   ]
  },
  {
   "cell_type": "code",
   "execution_count": 42,
   "metadata": {},
   "outputs": [],
   "source": [
    "# Create a program that counts the occurrences of each word in a given text.\n",
    "from collections import defaultdict\n",
    "\n",
    "def count_words(seq: str):\n",
    "    unique_words = defaultdict(int)\n",
    "    for word in seq.split():\n",
    "        unique_words[word] += 1\n",
    "    return unique_words"
   ]
  },
  {
   "cell_type": "code",
   "execution_count": 43,
   "metadata": {},
   "outputs": [
    {
     "data": {
      "text/plain": [
       "defaultdict(int, {'Twoja': 1, 'stara': 2})"
      ]
     },
     "execution_count": 43,
     "metadata": {},
     "output_type": "execute_result"
    }
   ],
   "source": [
    "count_words('Twoja stara stara')"
   ]
  },
  {
   "cell_type": "code",
   "execution_count": 40,
   "metadata": {},
   "outputs": [],
   "source": [
    "# Reverse words in a sentence without reversing the entire sentence.\n",
    "def reverse_words(seq: str):\n",
    "    return ' '.join(word[::-1] for word in seq.split())"
   ]
  },
  {
   "cell_type": "code",
   "execution_count": 41,
   "metadata": {},
   "outputs": [
    {
     "data": {
      "text/plain": [
       "'ajowT arats'"
      ]
     },
     "execution_count": 41,
     "metadata": {},
     "output_type": "execute_result"
    }
   ],
   "source": [
    "reverse_words('Twoja stara')"
   ]
  },
  {
   "cell_type": "code",
   "execution_count": 51,
   "metadata": {},
   "outputs": [],
   "source": [
    "# Write a Python script to merge two dictionaries.\n",
    "def merge_dicts(dict1, dict2):\n",
    "    return(dict2.update(dict1))"
   ]
  },
  {
   "cell_type": "code",
   "execution_count": 53,
   "metadata": {},
   "outputs": [
    {
     "name": "stdout",
     "output_type": "stream",
     "text": [
      "None\n",
      "{'d': 6, 'c': 4, 'a': 10, 'b': 8}\n"
     ]
    }
   ],
   "source": [
    "dict1 = {'a': 10, 'b': 8}\n",
    "dict2 = {'d': 6, 'c': 4}\n",
    " \n",
    "# This returns None\n",
    "print(merge_dicts(dict1, dict2))\n",
    "print(dict2)"
   ]
  },
  {
   "cell_type": "code",
   "execution_count": 54,
   "metadata": {},
   "outputs": [],
   "source": [
    "# Create a function that finds the intersection of two sets\n",
    "def find_intersections(set1, set2):\n",
    "    return set1.intersection(set2)"
   ]
  },
  {
   "cell_type": "code",
   "execution_count": 55,
   "metadata": {},
   "outputs": [
    {
     "data": {
      "text/plain": [
       "{2, 3}"
      ]
     },
     "execution_count": 55,
     "metadata": {},
     "output_type": "execute_result"
    }
   ],
   "source": [
    "a = {1,2,3}\n",
    "b = {2,3,4}\n",
    "find_intersections(a,b)"
   ]
  },
  {
   "cell_type": "code",
   "execution_count": 60,
   "metadata": {},
   "outputs": [],
   "source": [
    "# Implement a program to count the frequency of each character in a given string.\n",
    "def count_chars(seq):\n",
    "    chars = {}\n",
    "    for char in seq:\n",
    "        chars[char] = 1 if char not in chars else chars[char] + 1\n",
    "    return chars"
   ]
  },
  {
   "cell_type": "code",
   "execution_count": 61,
   "metadata": {},
   "outputs": [
    {
     "data": {
      "text/plain": [
       "{'T': 1, 'w': 1, 'o': 1, 'j': 1, 'a': 3, ' ': 1, 's': 1, 't': 1, 'r': 1}"
      ]
     },
     "execution_count": 61,
     "metadata": {},
     "output_type": "execute_result"
    }
   ],
   "source": [
    "count_chars('Twoja stara')"
   ]
  },
  {
   "cell_type": "code",
   "execution_count": 64,
   "metadata": {},
   "outputs": [],
   "source": [
    "# Write a function that calculates the factorial of a number.\n",
    "def factorial(n):\n",
    "    fact = 1\n",
    "    for i in range(1, n+1):\n",
    "        fact = fact * i\n",
    "    return fact"
   ]
  },
  {
   "cell_type": "code",
   "execution_count": 67,
   "metadata": {},
   "outputs": [],
   "source": [
    "def factorial2(n):\n",
    "    return 1 if n == 0 else n * factorial(n-1)"
   ]
  },
  {
   "cell_type": "code",
   "execution_count": 65,
   "metadata": {},
   "outputs": [
    {
     "data": {
      "text/plain": [
       "6"
      ]
     },
     "execution_count": 65,
     "metadata": {},
     "output_type": "execute_result"
    }
   ],
   "source": [
    "factorial(3)"
   ]
  },
  {
   "cell_type": "code",
   "execution_count": 78,
   "metadata": {},
   "outputs": [],
   "source": [
    "# Create a module that includes a function to generate a random password.\n",
    "import random\n",
    "\n",
    "def password_generator(length: int):\n",
    "    pool = ['q', 'w', 'e', 'r', 't', 'y', 'u', 'i', 'o', 'p', '1', '2', '3', '4', '5', '6', '7', '8', '9', '0']\n",
    "    password = ''.join(random.choice(pool) for _ in range(length))\n",
    "    return password"
   ]
  },
  {
   "cell_type": "code",
   "execution_count": 77,
   "metadata": {},
   "outputs": [
    {
     "data": {
      "text/plain": [
       "'16i'"
      ]
     },
     "execution_count": 77,
     "metadata": {},
     "output_type": "execute_result"
    }
   ],
   "source": [
    "password_generator(3)"
   ]
  },
  {
   "cell_type": "code",
   "execution_count": 82,
   "metadata": {},
   "outputs": [],
   "source": [
    "# Implement a program that reads data from a CSV file and performs a specific operation.\n",
    "import pandas as pd\n",
    "\n",
    "def csv_operation(file_path: str):\n",
    "    file = pd.read_csv(file_path)\n",
    "    return file.mean()\n",
    "        "
   ]
  },
  {
   "cell_type": "code",
   "execution_count": 83,
   "metadata": {},
   "outputs": [
    {
     "data": {
      "text/plain": [
       "col1     2.000000\n",
       "col2     4.033333\n",
       "col3    20.666667\n",
       "col4     3.000000\n",
       "dtype: float64"
      ]
     },
     "execution_count": 83,
     "metadata": {},
     "output_type": "execute_result"
    }
   ],
   "source": [
    "csv_operation('some_file.csv')"
   ]
  },
  {
   "cell_type": "code",
   "execution_count": 88,
   "metadata": {},
   "outputs": [],
   "source": [
    "# Create a program that copies the contents of one file to another.\n",
    "\n",
    "import shutil\n",
    "\n",
    "def copy_content(source_path: str, dest_path: str):\n",
    "    shutil.copy(source_path, dest_path)"
   ]
  },
  {
   "cell_type": "code",
   "execution_count": 94,
   "metadata": {},
   "outputs": [],
   "source": [
    "# Implement a function that searches for a specific pattern in a text file.\n",
    "import re\n",
    "\n",
    "def find_word_by_length(seq: str, length: int):\n",
    "    pattern = rf'\\w{{{length}}}'\n",
    "    return re.findall(pattern, seq)"
   ]
  },
  {
   "cell_type": "code",
   "execution_count": 96,
   "metadata": {},
   "outputs": [
    {
     "data": {
      "text/plain": [
       "['quoi']"
      ]
     },
     "execution_count": 96,
     "metadata": {},
     "output_type": "execute_result"
    }
   ],
   "source": [
    "seq = 'Je ne se quoi.'\n",
    "find_word_by_length(seq, 4)"
   ]
  },
  {
   "cell_type": "code",
   "execution_count": 97,
   "metadata": {},
   "outputs": [],
   "source": [
    "# Write a program that handles division by zero exception.\n",
    "def divisions(n):\n",
    "    try:\n",
    "        return n/(n-1)\n",
    "    except ZeroDivisionError:\n",
    "        print('You cannot use 1 in this function...')"
   ]
  },
  {
   "cell_type": "code",
   "execution_count": 101,
   "metadata": {},
   "outputs": [
    {
     "name": "stdout",
     "output_type": "stream",
     "text": [
      "You cannot use 1 in this function...\n"
     ]
    }
   ],
   "source": [
    "divisions(1)"
   ]
  },
  {
   "cell_type": "code",
   "execution_count": 104,
   "metadata": {},
   "outputs": [],
   "source": [
    "# Implement a function that handles file not found exception while reading a file.\n",
    "def read_file(path: str):\n",
    "    try:\n",
    "        with open(path, 'r') as file:\n",
    "            content = file.read()\n",
    "        return content\n",
    "    except FileNotFoundError:\n",
    "        print('Are your path correct?')"
   ]
  },
  {
   "cell_type": "code",
   "execution_count": 107,
   "metadata": {},
   "outputs": [
    {
     "name": "stdout",
     "output_type": "stream",
     "text": [
      "Are your path correct?\n"
     ]
    }
   ],
   "source": [
    "read_file('python/some_fil.csv')"
   ]
  },
  {
   "cell_type": "code",
   "execution_count": 114,
   "metadata": {},
   "outputs": [],
   "source": [
    "# counting DNA Nucleotides\n",
    "def count_nt(seq: str):\n",
    "    counts = {}\n",
    "    for base in seq:\n",
    "        if base not in counts.keys():\n",
    "            counts[base] = 1\n",
    "        else:\n",
    "            counts[base] += 1\n",
    "    return counts.values()"
   ]
  },
  {
   "cell_type": "code",
   "execution_count": 115,
   "metadata": {},
   "outputs": [
    {
     "data": {
      "text/plain": [
       "dict_values([20, 17, 12, 21])"
      ]
     },
     "execution_count": 115,
     "metadata": {},
     "output_type": "execute_result"
    }
   ],
   "source": [
    "count_nt('AGCTTTTCATTCTGACTGCAACGGGCAATATGTCTCTGTGTGGATTAAAAAAAGAGTGTCTGATAGCAGC')"
   ]
  },
  {
   "cell_type": "code",
   "execution_count": 129,
   "metadata": {},
   "outputs": [],
   "source": [
    "def complement(seq: str):\n",
    "    complement = {'A': 'T',\n",
    "                  'T': 'A',\n",
    "                  'G': 'C',\n",
    "                  'C': 'G'}\n",
    "    complementary_seq = ''\n",
    "    for base in seq:\n",
    "        complementary_seq += complement[base]\n",
    "    return complementary_seq[::-1]"
   ]
  },
  {
   "cell_type": "code",
   "execution_count": 131,
   "metadata": {},
   "outputs": [
    {
     "data": {
      "text/plain": [
       "'ACCGGGTTTT'"
      ]
     },
     "execution_count": 131,
     "metadata": {},
     "output_type": "execute_result"
    }
   ],
   "source": [
    "complement('AAAACCCGGT')"
   ]
  },
  {
   "cell_type": "code",
   "execution_count": 127,
   "metadata": {},
   "outputs": [],
   "source": [
    "def transcribe(seq: str):\n",
    "    seq = seq.replace('T', 'U')\n",
    "    return seq"
   ]
  },
  {
   "cell_type": "code",
   "execution_count": 128,
   "metadata": {},
   "outputs": [
    {
     "data": {
      "text/plain": [
       "'GAUGGAACUUGACUACGUAAAUU'"
      ]
     },
     "execution_count": 128,
     "metadata": {},
     "output_type": "execute_result"
    }
   ],
   "source": [
    "transcribe('GATGGAACTTGACTACGTAAATT')"
   ]
  },
  {
   "cell_type": "code",
   "execution_count": 161,
   "metadata": {},
   "outputs": [],
   "source": [
    "def gc_content(fasta_path: str):\n",
    "    gc_contents = {}\n",
    "    current_key = ''\n",
    "\n",
    "    with open(fasta_path, 'r') as file:\n",
    "        for line in file:\n",
    "            line = line.strip()\n",
    "            if line.startswith('>'):\n",
    "                current_key = line[1:].strip()\n",
    "                gc_contents[current_key] = 0\n",
    "            else:\n",
    "                line_length = len(line)\n",
    "                if line_length > 0:\n",
    "                    line_gc_content = (line.count('C') + line.count('G')) / line_length * 100\n",
    "                    gc_contents[current_key] += line_gc_content\n",
    "\n",
    "    max_gc_name = max(gc_contents, key=gc_contents.get)\n",
    "    max_gc = gc_contents[max_gc_name]\n",
    "\n",
    "    return max_gc_name, max_gc"
   ]
  },
  {
   "cell_type": "code",
   "execution_count": 162,
   "metadata": {},
   "outputs": [
    {
     "data": {
      "text/plain": [
       "('Rosalind_0808', 60.91954022988506)"
      ]
     },
     "execution_count": 162,
     "metadata": {},
     "output_type": "execute_result"
    }
   ],
   "source": [
    "gc_content('fasta.fasta')"
   ]
  },
  {
   "cell_type": "code",
   "execution_count": 172,
   "metadata": {},
   "outputs": [
    {
     "name": "stdout",
     "output_type": "stream",
     "text": [
      "Rosalind_0808 \n",
      " 60.91954022988506\n"
     ]
    }
   ],
   "source": [
    "def calculate_gc_content(sequence):\n",
    "    gc_count = sequence.count('G') + sequence.count('C')\n",
    "    total_bases = len(sequence)\n",
    "    if total_bases > 0:\n",
    "        return (gc_count / total_bases) * 100\n",
    "    else:\n",
    "        return 0\n",
    "\n",
    "def read_fasta(file_path):\n",
    "    sequences = {}\n",
    "    current_key = ''\n",
    "\n",
    "    with open(file_path, 'r') as file:\n",
    "        for line in file:\n",
    "            line = line.strip()\n",
    "            if line.startswith('>'):\n",
    "                current_key = line[1:].strip()\n",
    "                sequences[current_key] = ''\n",
    "            else:\n",
    "                sequences[current_key] += line\n",
    "\n",
    "    return sequences\n",
    "\n",
    "def main():\n",
    "    fasta_path = 'fasta.fasta'\n",
    "    sequences = read_fasta(fasta_path)\n",
    "\n",
    "    if not sequences:\n",
    "        print(\"No sequences found in the FASTA file.\")\n",
    "        return\n",
    "\n",
    "    max_gc_sequence = max(sequences, key=lambda key: calculate_gc_content(sequences[key]))\n",
    "    max_gc_percentage = calculate_gc_content(sequences[max_gc_sequence])\n",
    "\n",
    "    print(max_gc_sequence,'\\n',max_gc_percentage)\n",
    "\n",
    "if __name__ == \"__main__\":\n",
    "    main()"
   ]
  },
  {
   "cell_type": "code",
   "execution_count": 185,
   "metadata": {},
   "outputs": [],
   "source": [
    "def hamming_distance(seq1: str, seq2: str):\n",
    "    dist = 0\n",
    "    for i,e in enumerate(seq1):\n",
    "        if e != seq2[i]:\n",
    "            dist += 1\n",
    "    return dist"
   ]
  },
  {
   "cell_type": "code",
   "execution_count": 186,
   "metadata": {},
   "outputs": [
    {
     "data": {
      "text/plain": [
       "7"
      ]
     },
     "execution_count": 186,
     "metadata": {},
     "output_type": "execute_result"
    }
   ],
   "source": [
    "hamming_distance('GAGCCTACTAACGGGAT', 'CATCGTAATGACGGCCT')"
   ]
  }
 ],
 "metadata": {
  "kernelspec": {
   "display_name": "myenv",
   "language": "python",
   "name": "python3"
  },
  "language_info": {
   "codemirror_mode": {
    "name": "ipython",
    "version": 3
   },
   "file_extension": ".py",
   "mimetype": "text/x-python",
   "name": "python",
   "nbconvert_exporter": "python",
   "pygments_lexer": "ipython3",
   "version": "3.8.18"
  }
 },
 "nbformat": 4,
 "nbformat_minor": 2
}
