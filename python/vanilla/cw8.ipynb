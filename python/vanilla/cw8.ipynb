{
 "cells": [
  {
   "cell_type": "code",
   "execution_count": 8,
   "metadata": {},
   "outputs": [],
   "source": [
    "import os\n",
    "import math\n",
    "import pandas as pd"
   ]
  },
  {
   "cell_type": "code",
   "execution_count": 9,
   "metadata": {},
   "outputs": [],
   "source": [
    "class TFIDF():\n",
    "    \n",
    "    def __init__(self, documents):\n",
    "        self.documents = documents\n",
    "        self.sentences = [x.split() for x in documents]\n",
    "        self.unique_words = set(sum(self.sentences, []))\n",
    "        self.word_tf_in_sentences = {}\n",
    "        \n",
    "    def calculate_tf(self):\n",
    "        for word in self.unique_words:\n",
    "            tf_in_sentences = tuple(sentence.count(word) / len(sentence) if len(sentence) > 0 else 0 for sentence in self.sentences)\n",
    "            self.word_tf_in_sentences[word] = tf_in_sentences\n",
    "        return self.word_tf_in_sentences\n",
    "    \n",
    "    def calculate_idf(self):\n",
    "        idf = {}\n",
    "        for word in self.unique_words:\n",
    "            idf[word] = 1 + math.log((len(self.sentences) + 1) / (sum([1.0 for i in self.sentences if word in i])+1))\n",
    "        return idf\n",
    "    \n",
    "    def calculate_tfidf(self):\n",
    "        tfidf = {}\n",
    "        idf = self.calculate_idf()\n",
    "        tf = self.calculate_tf()\n",
    "        for word in self.unique_words:\n",
    "            tfidf[word] = tuple(tf[word][i] * idf[word] for i in range(len(self.sentences)))\n",
    "        return tfidf\n",
    "    \n",
    "    def calculate_cosine_similarity(self):\n",
    "        tfidf = self.calculate_tfidf()\n",
    "        cosine_similarity = {}\n",
    "        for i in range(len(self.sentences)):\n",
    "            for j in range(len(self.sentences)):\n",
    "                if i != j:\n",
    "                    cosine_similarity[(i, j)] = sum([tfidf[word][i] * tfidf[word][j] for word in self.unique_words])\n",
    "        return cosine_similarity\n",
    "        "
   ]
  },
  {
   "cell_type": "code",
   "execution_count": 10,
   "metadata": {},
   "outputs": [
    {
     "data": {
      "text/plain": [
       "{'Język': (0.2, 0.2),\n",
       " 'jest': (0.2810930216216329, 0.0),\n",
       " 'javascript': (0.0, 0.2810930216216329),\n",
       " 'programowania': (0.2, 0.2),\n",
       " 'super': (0.2810930216216329, 0.0),\n",
       " 'odraża': (0.0, 0.2810930216216329),\n",
       " 'mnie': (0.0, 0.2810930216216329),\n",
       " 'python': (0.2810930216216329, 0.0)}"
      ]
     },
     "execution_count": 10,
     "metadata": {},
     "output_type": "execute_result"
    }
   ],
   "source": [
    "tfidf = TFIDF([\"Język programowania python jest super\", \"Język programowania javascript odraża mnie\"])\n",
    "tfidf.calculate_tfidf()"
   ]
  },
  {
   "cell_type": "code",
   "execution_count": 11,
   "metadata": {},
   "outputs": [
    {
     "data": {
      "text/plain": [
       "{(0, 1): 0.08000000000000002, (1, 0): 0.08000000000000002}"
      ]
     },
     "execution_count": 11,
     "metadata": {},
     "output_type": "execute_result"
    }
   ],
   "source": [
    "tfidf.calculate_cosine_similarity()"
   ]
  },
  {
   "cell_type": "code",
   "execution_count": 39,
   "metadata": {},
   "outputs": [],
   "source": [
    "'''\n",
    "nie umiałam tego zrobić do zadanego szablonu, więc zrobiłam na podstawie poprzedniej klasy\n",
    "'''\n",
    "class TFIDF2:\n",
    "    \n",
    "    def __init__(self, path_to_pubs):\n",
    "        self.path_to_pubs = path_to_pubs\n",
    "        self.documents = self.get_pdf_files()\n",
    "        self.sentences = [x.split() for x in self.documents]\n",
    "        self.unique_words = set(sum(self.sentences, []))\n",
    "        self.word_tf_in_sentences = {}\n",
    "        \n",
    "    def get_pdf_files(self):\n",
    "        files = [os.path.splitext(f)[0] for f in os.listdir(self.path_to_pubs) if f.endswith(\".pdf\")]\n",
    "        return files\n",
    "\n",
    "    def calculate_tf(self):\n",
    "        for word in self.unique_words:\n",
    "            tf_in_sentences = tuple(sentence.count(word) / len(sentence) if len(sentence) > 0 else 0 for sentence in self.sentences)\n",
    "            self.word_tf_in_sentences[word] = tf_in_sentences\n",
    "        return self.word_tf_in_sentences\n",
    "    \n",
    "    def calculate_idf(self):\n",
    "        idf = {}\n",
    "        for word in self.unique_words:\n",
    "            idf[word] = 1 + math.log((len(self.sentences) + 1) / (sum([1.0 for i in self.sentences if word in i])+1))\n",
    "        return idf\n",
    "    \n",
    "    def calculate_tfidf(self):\n",
    "        tfidf_matrix = []\n",
    "        idf = self.calculate_idf()\n",
    "        tf = self.calculate_tf()\n",
    "        for i, sentence in enumerate(self.sentences):\n",
    "            tfidf_vector = [tf[word][i] * idf[word] if word in sentence else 0.0 for word in self.unique_words]\n",
    "            tfidf_matrix.append(tfidf_vector)\n",
    "        return tfidf_matrix\n",
    "    \n",
    "    def calculate_cosine_similarity(self):\n",
    "        tfidf = self.calculate_tfidf()\n",
    "        cosine_similarity = {}\n",
    "        for i in range(len(self.sentences)):\n",
    "            for j in range(len(self.sentences)):\n",
    "                if i != j:\n",
    "                    cosine_similarity[(i, j)] = sum([tfidf[word][i] * tfidf[word][j] for word in self.unique_words])\n",
    "        return cosine_similarity"
   ]
  },
  {
   "cell_type": "code",
   "execution_count": 40,
   "metadata": {},
   "outputs": [
    {
     "name": "stdout",
     "output_type": "stream",
     "text": [
      "[[0.0, 0.5, 0.7027325540540822], [0.7027325540540822, 0.5, 0.0]]\n"
     ]
    }
   ],
   "source": [
    "tfidf2 = TFIDF2('cw8/test/')\n",
    "tfidf_values = tfidf2.calculate_tfidf()\n",
    "print(tfidf_values)"
   ]
  }
 ],
 "metadata": {
  "kernelspec": {
   "display_name": "myenv",
   "language": "python",
   "name": "python3"
  },
  "language_info": {
   "codemirror_mode": {
    "name": "ipython",
    "version": 3
   },
   "file_extension": ".py",
   "mimetype": "text/x-python",
   "name": "python",
   "nbconvert_exporter": "python",
   "pygments_lexer": "ipython3",
   "version": "3.11.0"
  }
 },
 "nbformat": 4,
 "nbformat_minor": 2
}
