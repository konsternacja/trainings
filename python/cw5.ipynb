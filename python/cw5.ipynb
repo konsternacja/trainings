{
 "cells": [
  {
   "cell_type": "code",
   "execution_count": 2,
   "metadata": {},
   "outputs": [],
   "source": [
    "# cw1\n",
    "class Human:\n",
    "    \n",
    "    Number_of_humans = 0\n",
    "    \n",
    "    def __init__(self, name, age):\n",
    "        \n",
    "        # pola zmiennych instacji klasy\n",
    "        self.name = name\n",
    "        self.age = age\n",
    "        \n",
    "        Human.Number_of_humans += 1\n",
    "    \n",
    "    def introduce(self):\n",
    "        print(f'Hi, nazywam się {self.name} i mam {self.age} lata')"
   ]
  },
  {
   "cell_type": "code",
   "execution_count": 17,
   "metadata": {},
   "outputs": [],
   "source": [
    "class Student(Human):\n",
    "    \n",
    "    def __init__(self, name, age, program, grades):\n",
    "        \n",
    "        super().__init__(name, age)\n",
    "        \n",
    "        self.program = program\n",
    "        self.grades = grades\n",
    "        \n",
    "        \n",
    "    def introduce(self):\n",
    "        print(f'Hi, nazywam się {self.name}, studjuję {self.program} i mam {self.age} lata')\n",
    "    \n",
    "        \n",
    "    def __lt__(self, other):\n",
    "        return sum(self.grades)/len(self.grades) < sum(other.grades)/len(other.grades)"
   ]
  },
  {
   "cell_type": "code",
   "execution_count": 18,
   "metadata": {},
   "outputs": [],
   "source": [
    "student1 = Student('Maciek', 24, 'Informatyka', [4,4,3,4])\n",
    "student2 = Student('Michał', 22, 'Bioinformatyka',[3,4,5,3])\n",
    "student3 = Student('Kasia', 23, 'Bioinformatyka',[5,5,5,5])\n",
    "student4 = Student('Kacper', 23, 'Biologia',[2,2,2])"
   ]
  },
  {
   "cell_type": "code",
   "execution_count": 19,
   "metadata": {},
   "outputs": [
    {
     "name": "stdout",
     "output_type": "stream",
     "text": [
      "Kacper\n",
      "Maciek\n",
      "Michał\n",
      "Kasia\n"
     ]
    }
   ],
   "source": [
    "students = [student1, student2, student3, student4]\n",
    "sorted_students = sorted(students)\n",
    "for student in sorted_students:\n",
    "    print(student.name)"
   ]
  },
  {
   "cell_type": "code",
   "execution_count": 6,
   "metadata": {},
   "outputs": [],
   "source": [
    "# cw2\n",
    "class Seq:\n",
    "    \n",
    "    def __init__(self, seq_id, seq):\n",
    "        self.seq_id = seq_id\n",
    "        self.seq = seq\n",
    "        \n",
    "    def __len__(self):\n",
    "        return len(self.seq)\n",
    "    \n",
    "    def __str__(self):\n",
    "        return self.seq\n",
    "    \n",
    "    @classmethod\n",
    "    def from_file(cls, filename):\n",
    "        seq_list = []\n",
    "        with open(filename) as f:\n",
    "            for line in f:\n",
    "                if line.startswith('>'):\n",
    "                    seq_id = line.strip()[1:]\n",
    "                    seq = ''\n",
    "                else:\n",
    "                    seq += line.strip()\n",
    "                    seq_list.append(cls(seq_id, seq))\n",
    "    \n",
    "        return seq_list"
   ]
  },
  {
   "cell_type": "code",
   "execution_count": 7,
   "metadata": {},
   "outputs": [
    {
     "name": "stdout",
     "output_type": "stream",
     "text": [
      "ATGATGATGATG\n",
      "ATGATGATGATG\n",
      "AGCAGCAGCAGC\n"
     ]
    }
   ],
   "source": [
    "seqs = Seq.from_file('sequences.txt')\n",
    "for seq in seqs:\n",
    "    print(seq)"
   ]
  },
  {
   "cell_type": "code",
   "execution_count": 12,
   "metadata": {},
   "outputs": [],
   "source": [
    "class DNASeq(Seq):\n",
    "    \n",
    "    base_pairs = ['A', 'T', 'C', 'G']\n",
    "    \n",
    "    def __init__(self, seq_id, seq):\n",
    "        super().__init__(seq_id, seq)\n",
    "        if not all(base in DNASeq.base_pairs for base in seq):\n",
    "            raise ValueError('Invalid sequence: only A, T, C, and G are allowed')\n",
    "        self.seq = seq\n",
    "\n",
    "        \n",
    "    def transcribe(self):\n",
    "        transcription_table = str.maketrans('ATCG', 'UAGC')\n",
    "        return self.seq.translate(transcription_table)\n"
   ]
  },
  {
   "cell_type": "code",
   "execution_count": 10,
   "metadata": {},
   "outputs": [
    {
     "data": {
      "text/plain": [
       "'UAGC'"
      ]
     },
     "execution_count": 10,
     "metadata": {},
     "output_type": "execute_result"
    }
   ],
   "source": [
    "DNASeq('seq1', 'ATCG').transcribe()"
   ]
  },
  {
   "cell_type": "code",
   "execution_count": 13,
   "metadata": {},
   "outputs": [
    {
     "ename": "ValueError",
     "evalue": "Invalid sequence: only A, T, C, and G are allowed",
     "output_type": "error",
     "traceback": [
      "\u001b[0;31m---------------------------------------------------------------------------\u001b[0m",
      "\u001b[0;31mValueError\u001b[0m                                Traceback (most recent call last)",
      "\u001b[1;32m/home/konsternacja/OneDrive/STUDIA/MGR_binf/1rok/python/cw5/cw5.ipynb Cell 9\u001b[0m line \u001b[0;36m1\n\u001b[0;32m----> <a href='vscode-notebook-cell:/home/konsternacja/OneDrive/STUDIA/MGR_binf/1rok/python/cw5/cw5.ipynb#X11sZmlsZQ%3D%3D?line=0'>1</a>\u001b[0m DNASeq(\u001b[39m'\u001b[39;49m\u001b[39mseq1\u001b[39;49m\u001b[39m'\u001b[39;49m, \u001b[39m'\u001b[39;49m\u001b[39mATCS\u001b[39;49m\u001b[39m'\u001b[39;49m)()\n",
      "\u001b[1;32m/home/konsternacja/OneDrive/STUDIA/MGR_binf/1rok/python/cw5/cw5.ipynb Cell 9\u001b[0m line \u001b[0;36m8\n\u001b[1;32m      <a href='vscode-notebook-cell:/home/konsternacja/OneDrive/STUDIA/MGR_binf/1rok/python/cw5/cw5.ipynb#X11sZmlsZQ%3D%3D?line=5'>6</a>\u001b[0m \u001b[39msuper\u001b[39m()\u001b[39m.\u001b[39m\u001b[39m__init__\u001b[39m(seq_id, seq)\n\u001b[1;32m      <a href='vscode-notebook-cell:/home/konsternacja/OneDrive/STUDIA/MGR_binf/1rok/python/cw5/cw5.ipynb#X11sZmlsZQ%3D%3D?line=6'>7</a>\u001b[0m \u001b[39mif\u001b[39;00m \u001b[39mnot\u001b[39;00m \u001b[39mall\u001b[39m(base \u001b[39min\u001b[39;00m DNASeq\u001b[39m.\u001b[39mbase_pairs \u001b[39mfor\u001b[39;00m base \u001b[39min\u001b[39;00m seq):\n\u001b[0;32m----> <a href='vscode-notebook-cell:/home/konsternacja/OneDrive/STUDIA/MGR_binf/1rok/python/cw5/cw5.ipynb#X11sZmlsZQ%3D%3D?line=7'>8</a>\u001b[0m     \u001b[39mraise\u001b[39;00m \u001b[39mValueError\u001b[39;00m(\u001b[39m'\u001b[39m\u001b[39mInvalid sequence: only A, T, C, and G are allowed\u001b[39m\u001b[39m'\u001b[39m)\n\u001b[1;32m      <a href='vscode-notebook-cell:/home/konsternacja/OneDrive/STUDIA/MGR_binf/1rok/python/cw5/cw5.ipynb#X11sZmlsZQ%3D%3D?line=8'>9</a>\u001b[0m \u001b[39mself\u001b[39m\u001b[39m.\u001b[39mseq \u001b[39m=\u001b[39m seq\n",
      "\u001b[0;31mValueError\u001b[0m: Invalid sequence: only A, T, C, and G are allowed"
     ]
    }
   ],
   "source": [
    "DNASeq('seq1', 'ATCS')()"
   ]
  },
  {
   "cell_type": "code",
   "execution_count": 14,
   "metadata": {},
   "outputs": [],
   "source": [
    "class RNASeq(Seq):\n",
    "    \n",
    "    base_pairs = ['A', 'U', 'C', 'G']\n",
    "    def __init__(self, seq_id, seq):\n",
    "        super().__init__(seq_id, seq)\n",
    "        if not all(base in RNASeq.base_pairs for base in seq):\n",
    "            raise ValueError('Invalid sequence: only A, U, C, and G are allowed')\n",
    "        self.seq = seq\n",
    "        \n",
    "    def gc_content(self):\n",
    "        return (self.seq.count('G') + self.seq.count('C')) / len(self.seq)"
   ]
  },
  {
   "cell_type": "code",
   "execution_count": 16,
   "metadata": {},
   "outputs": [
    {
     "data": {
      "text/plain": [
       "0.5"
      ]
     },
     "execution_count": 16,
     "metadata": {},
     "output_type": "execute_result"
    }
   ],
   "source": [
    "RNASeq('seq1', 'AUCG').gc_content()"
   ]
  }
 ],
 "metadata": {
  "kernelspec": {
   "display_name": "myenv",
   "language": "python",
   "name": "python3"
  },
  "language_info": {
   "codemirror_mode": {
    "name": "ipython",
    "version": 3
   },
   "file_extension": ".py",
   "mimetype": "text/x-python",
   "name": "python",
   "nbconvert_exporter": "python",
   "pygments_lexer": "ipython3",
   "version": "3.11.0"
  }
 },
 "nbformat": 4,
 "nbformat_minor": 2
}
