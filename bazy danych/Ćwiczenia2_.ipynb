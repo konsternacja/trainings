{
 "cells": [
  {
   "cell_type": "markdown",
   "metadata": {},
   "source": [
    "Bioinformatyka2 2022/2023, Adrian Kania, Ćwiczenia4"
   ]
  },
  {
   "cell_type": "markdown",
   "metadata": {},
   "source": [
    "<h2> Biologiczne bazy danych oraz metoda TF-IDF do porównywania dokumentów tekstowych."
   ]
  },
  {
   "cell_type": "markdown",
   "metadata": {},
   "source": [
    "<h3> Protein Data Bank (PDB)"
   ]
  },
  {
   "cell_type": "code",
   "execution_count": 1,
   "metadata": {},
   "outputs": [],
   "source": [
    "from urllib.request import urlopen #moduł żeby otworzyc URL\n",
    "\n",
    "def downloadPDBasList(pdbId):\n",
    "    response = urlopen(f'http://www.rcsb.org/pdb/files/{pdbId}.pdb') #otwieramy połączenie\n",
    "    data = response.read().decode('utf-8') #sposob kodowania\n",
    "    t = data.split('\\n') #kazda linijka bedzie osobnym elementem listy\n",
    "    return t"
   ]
  },
  {
   "cell_type": "code",
   "execution_count": 5,
   "metadata": {},
   "outputs": [
    {
     "name": "stdout",
     "output_type": "stream",
     "text": [
      "HEADER    GUANINE NUCLEOTIDE EXCHANGE FACTOR      19-DEC-97   1A12              \n",
      "TITLE     REGULATOR OF CHROMOSOME CONDENSATION (RCC1) OF HUMAN                  \n",
      "COMPND    MOL_ID: 1;                                                            \n",
      "COMPND   2 MOLECULE: REGULATOR OF CHROMOSOME CONDENSATION 1;                    \n",
      "COMPND   3 CHAIN: A, B, C;                                                      \n",
      "COMPND   4 FRAGMENT: FULL LENGTH;                                               \n",
      "COMPND   5 SYNONYM: RCC1;                                                       \n",
      "COMPND   6 ENGINEERED: YES                                                      \n",
      "SOURCE    MOL_ID: 1;                                                            \n",
      "SOURCE   2 ORGANISM_SCIENTIFIC: HOMO SAPIENS;                                   \n",
      "SOURCE   3 ORGANISM_COMMON: HUMAN;                                              \n"
     ]
    }
   ],
   "source": [
    "t = downloadPDBasList(\"1A12\") #pobieramy białko o zadanym ID\n",
    "\n",
    "#Wyświetlamy pierwsze 10 linijek\n",
    "n = 0\n",
    "for line in t:\n",
    "    print(line)\n",
    "    n += 1\n",
    "    if n>10:\n",
    "        break"
   ]
  },
  {
   "cell_type": "markdown",
   "metadata": {},
   "source": [
    "<h3> PubMed"
   ]
  },
  {
   "cell_type": "markdown",
   "metadata": {},
   "source": [
    "<h4> Wyszukiwanie prac zadanego autora"
   ]
  },
  {
   "cell_type": "code",
   "execution_count": 6,
   "metadata": {},
   "outputs": [],
   "source": [
    "from urllib.request import urlopen\n",
    "from urllib.parse import urlencode \n",
    "from lxml import etree  #modul zeby otworzyc pliki XML\n",
    "\n",
    "##########NASZE ZAPYTANIE\n",
    "author_name = \"Krzysztof Murzyn\"\n",
    "base_url = \"https://eutils.ncbi.nlm.nih.gov/entrez/eutils/esearch.fcgi?\"\n",
    "url = base_url+ urlencode({\"db\": \"pubmed\", \"term\": author_name+\"[author]\", \"retmax\": 30})  #db = database\n",
    "#########################\n",
    "\n",
    "#########OTWORZ URL I PRZECZYTAJ XML\n",
    "response = urlopen(url)\n",
    "resultxml = response.read()\n",
    "xml = etree.XML(resultxml)\n",
    "####################################"
   ]
  },
  {
   "cell_type": "code",
   "execution_count": 7,
   "metadata": {},
   "outputs": [
    {
     "name": "stdout",
     "output_type": "stream",
     "text": [
      "['Id', 'From', 'To', 'Count', 'IdList', 'TranslationSet', 'TranslationStack', 'TermSet', 'Field', 'QueryTranslation', 'RetMax', 'eSearchResult', 'Translation', 'Explode', 'Term', 'OP', 'RetStart']\n"
     ]
    }
   ],
   "source": [
    "tags = list({elem.tag for elem in xml.iter()}) #Co mozemy sie dowiedziec?\n",
    "\n",
    "print(tags)"
   ]
  },
  {
   "cell_type": "code",
   "execution_count": 8,
   "metadata": {},
   "outputs": [
    {
     "name": "stdout",
     "output_type": "stream",
     "text": [
      "['35723299']\n",
      "['32940993']\n",
      "['30504221']\n",
      "['27902406']\n",
      "['26825705']\n",
      "['26718149']\n",
      "['25867074']\n",
      "['25296168']\n",
      "['24660117']\n",
      "['24286298']\n",
      "['23527010']\n",
      "['22428146']\n",
      "['22284390']\n",
      "['20506323']\n",
      "['19909337']\n",
      "['19199693']\n",
      "['17985365']\n",
      "['20408622']\n",
      "['16395663']\n",
      "['15652158']\n",
      "['15556990']\n",
      "['14594994']\n",
      "['14515159']\n",
      "['12774216']\n"
     ]
    }
   ],
   "source": [
    "resultelements = xml.xpath(\"//Id\") #wszystkie ID prac autora\n",
    "\n",
    "for elem in resultelements:\n",
    "    print([elem.text])"
   ]
  },
  {
   "cell_type": "markdown",
   "metadata": {},
   "source": [
    "<h4> Wyszukiwanie pracy po ID"
   ]
  },
  {
   "cell_type": "code",
   "execution_count": 9,
   "metadata": {},
   "outputs": [
    {
     "name": "stdout",
     "output_type": "stream",
     "text": [
      "['ISSN', 'ISOAbbreviation', 'Journal', 'MedlinePgn', 'Issue', 'PubmedArticleSet', 'Year', 'Title', 'ArticleIdList', 'AffiliationInfo', 'DateCompleted', 'PublicationType', 'Keyword', 'PublicationStatus', 'MedlineJournalInfo', 'MedlineTA', 'Day', 'KeywordList', 'DateRevised', 'Article', 'ArticleTitle', 'PubmedData', 'PublicationTypeList', 'NlmUniqueID', 'AbstractText', 'MeshHeading', 'PMID', 'Affiliation', 'Abstract', 'Volume', 'ELocationID', 'AuthorList', 'CitationSubset', 'History', 'JournalIssue', 'Month', 'ArticleDate', 'Pagination', 'Hour', 'Country', 'MeshHeadingList', 'ForeName', 'ArticleId', 'MedlineCitation', 'ISSNLinking', 'Initials', 'DescriptorName', 'PubDate', 'PubMedPubDate', 'Language', 'Minute', 'Author', 'LastName', 'PubmedArticle', 'CopyrightInformation']\n"
     ]
    }
   ],
   "source": [
    "from urllib.request import urlopen\n",
    "from lxml import etree\n",
    "\n",
    "##########NASZE ZAPYTANIE\n",
    "PMID = '33713823' #nr pracy\n",
    "baseurl = \"https://eutils.ncbi.nlm.nih.gov/entrez/eutils/efetch.fcgi?\"\n",
    "query = \"db=pubmed&id=\"+PMID+\"&format=xml\"    \n",
    "########################\n",
    "\n",
    "\n",
    "#########OTWORZ URL I PRZECZYTAJ XML\n",
    "url = baseurl+query\n",
    "f = urlopen(url) \n",
    "resultxml = f.read() \n",
    "xml = etree.XML(resultxml) \n",
    "###################################\n",
    "\n",
    "tags = list({elem.tag for elem in xml.iter()}) #co sie moge dowiedzieć o tej pracy?\n",
    "print(tags)"
   ]
  },
  {
   "cell_type": "code",
   "execution_count": 36,
   "metadata": {},
   "outputs": [
    {
     "name": "stdout",
     "output_type": "stream",
     "text": [
      "The robustness of the chaos game representation to mutations and its application in free-alignment methods.\n"
     ]
    }
   ],
   "source": [
    "#Zobacz tytul\n",
    "\n",
    "resultelements= xml.xpath(\"//ArticleTitle\") \n",
    "\n",
    "for element in resultelements:\n",
    "    print(element.text)"
   ]
  },
  {
   "cell_type": "code",
   "execution_count": 8,
   "metadata": {},
   "outputs": [
    {
     "name": "stdout",
     "output_type": "stream",
     "text": [
      "Numerical representation of biological sequences plays an important role in bioinformatics and has many practical applications. One of the most popular approaches is the chaos game representation. In this paper, the authors propose a novel look into chaos game construction - an analytical description of this procedure. This type enables to build more general number sequences using different weight functions. The authors suggest three conditions that these functions should hold. Additionally, they present some criteria to compare them and check whether they provide a unique representation. One of the most important advantages of our approach is the possibility to construct such a description that is less sensitive to mutations and as a result, give more reliable values for free-alignment phylogenetic trees constructions. Finally, the authors applied the DFT method using four types of functions and compared the obtained results using the BLAST tool.\n"
     ]
    }
   ],
   "source": [
    "#Zobacz abstrakt\n",
    "\n",
    "resultelements= xml.xpath(\"//AbstractText\") \n",
    "\n",
    "for element in resultelements:\n",
    "    print(element.text)"
   ]
  },
  {
   "cell_type": "markdown",
   "metadata": {},
   "source": [
    "<h4> Zadanie1: \n",
    "    \n",
    "    Z bazy danych PubMed pobierz i zapisz do pliku wszystkie tytuły publikacji których autorem (lub współautorem) \n",
    "    jest Krzysztof Murzyn.\n",
    "    \n",
    "       \n",
    "    \n",
    "    Wskazówka::\n",
    "    - pobierz IDs wszystkich prac,\n",
    "    - pobierz wszystkie tytuły dla każdego ID (możesz zapisać je do listy)\n",
    "    - zapisz dane do pliku tekstowego"
   ]
  },
  {
   "cell_type": "markdown",
   "metadata": {},
   "source": [
    "<h4> Zadanie2: \n",
    "    \n",
    "    Ile razy słowo \"molecule\" wystąpiło we wszystkich abstraktach prac autorstwa lub współautorstwa Krzysztofa Murzyna?"
   ]
  },
  {
   "cell_type": "code",
   "execution_count": 18,
   "metadata": {},
   "outputs": [
    {
     "name": "stderr",
     "output_type": "stream",
     "text": [
      "-bash: line 1: pip: command not found\n"
     ]
    },
    {
     "ename": "CalledProcessError",
     "evalue": "Command 'b'pip install metapub\\n'' returned non-zero exit status 127.",
     "output_type": "error",
     "traceback": [
      "\u001b[1;31m---------------------------------------------------------------------------\u001b[0m",
      "\u001b[1;31mCalledProcessError\u001b[0m                        Traceback (most recent call last)",
      "\u001b[1;32m~\\AppData\\Local\\Temp/ipykernel_12280/2304796395.py\u001b[0m in \u001b[0;36m<module>\u001b[1;34m\u001b[0m\n\u001b[1;32m----> 1\u001b[1;33m \u001b[0mget_ipython\u001b[0m\u001b[1;33m(\u001b[0m\u001b[1;33m)\u001b[0m\u001b[1;33m.\u001b[0m\u001b[0mrun_cell_magic\u001b[0m\u001b[1;33m(\u001b[0m\u001b[1;34m'bash'\u001b[0m\u001b[1;33m,\u001b[0m \u001b[1;34m''\u001b[0m\u001b[1;33m,\u001b[0m \u001b[1;34m'pip install metapub\\n'\u001b[0m\u001b[1;33m)\u001b[0m\u001b[1;33m\u001b[0m\u001b[1;33m\u001b[0m\u001b[0m\n\u001b[0m",
      "\u001b[1;32m~\\Anaconda\\lib\\site-packages\\IPython\\core\\interactiveshell.py\u001b[0m in \u001b[0;36mrun_cell_magic\u001b[1;34m(self, magic_name, line, cell)\u001b[0m\n\u001b[0;32m   2404\u001b[0m             \u001b[1;32mwith\u001b[0m \u001b[0mself\u001b[0m\u001b[1;33m.\u001b[0m\u001b[0mbuiltin_trap\u001b[0m\u001b[1;33m:\u001b[0m\u001b[1;33m\u001b[0m\u001b[1;33m\u001b[0m\u001b[0m\n\u001b[0;32m   2405\u001b[0m                 \u001b[0margs\u001b[0m \u001b[1;33m=\u001b[0m \u001b[1;33m(\u001b[0m\u001b[0mmagic_arg_s\u001b[0m\u001b[1;33m,\u001b[0m \u001b[0mcell\u001b[0m\u001b[1;33m)\u001b[0m\u001b[1;33m\u001b[0m\u001b[1;33m\u001b[0m\u001b[0m\n\u001b[1;32m-> 2406\u001b[1;33m                 \u001b[0mresult\u001b[0m \u001b[1;33m=\u001b[0m \u001b[0mfn\u001b[0m\u001b[1;33m(\u001b[0m\u001b[1;33m*\u001b[0m\u001b[0margs\u001b[0m\u001b[1;33m,\u001b[0m \u001b[1;33m**\u001b[0m\u001b[0mkwargs\u001b[0m\u001b[1;33m)\u001b[0m\u001b[1;33m\u001b[0m\u001b[1;33m\u001b[0m\u001b[0m\n\u001b[0m\u001b[0;32m   2407\u001b[0m             \u001b[1;32mreturn\u001b[0m \u001b[0mresult\u001b[0m\u001b[1;33m\u001b[0m\u001b[1;33m\u001b[0m\u001b[0m\n\u001b[0;32m   2408\u001b[0m \u001b[1;33m\u001b[0m\u001b[0m\n",
      "\u001b[1;32m~\\Anaconda\\lib\\site-packages\\IPython\\core\\magics\\script.py\u001b[0m in \u001b[0;36mnamed_script_magic\u001b[1;34m(line, cell)\u001b[0m\n\u001b[0;32m    140\u001b[0m             \u001b[1;32melse\u001b[0m\u001b[1;33m:\u001b[0m\u001b[1;33m\u001b[0m\u001b[1;33m\u001b[0m\u001b[0m\n\u001b[0;32m    141\u001b[0m                 \u001b[0mline\u001b[0m \u001b[1;33m=\u001b[0m \u001b[0mscript\u001b[0m\u001b[1;33m\u001b[0m\u001b[1;33m\u001b[0m\u001b[0m\n\u001b[1;32m--> 142\u001b[1;33m             \u001b[1;32mreturn\u001b[0m \u001b[0mself\u001b[0m\u001b[1;33m.\u001b[0m\u001b[0mshebang\u001b[0m\u001b[1;33m(\u001b[0m\u001b[0mline\u001b[0m\u001b[1;33m,\u001b[0m \u001b[0mcell\u001b[0m\u001b[1;33m)\u001b[0m\u001b[1;33m\u001b[0m\u001b[1;33m\u001b[0m\u001b[0m\n\u001b[0m\u001b[0;32m    143\u001b[0m \u001b[1;33m\u001b[0m\u001b[0m\n\u001b[0;32m    144\u001b[0m         \u001b[1;31m# write a basic docstring:\u001b[0m\u001b[1;33m\u001b[0m\u001b[1;33m\u001b[0m\u001b[0m\n",
      "\u001b[1;32m~\\Anaconda\\lib\\site-packages\\decorator.py\u001b[0m in \u001b[0;36mfun\u001b[1;34m(*args, **kw)\u001b[0m\n\u001b[0;32m    230\u001b[0m             \u001b[1;32mif\u001b[0m \u001b[1;32mnot\u001b[0m \u001b[0mkwsyntax\u001b[0m\u001b[1;33m:\u001b[0m\u001b[1;33m\u001b[0m\u001b[1;33m\u001b[0m\u001b[0m\n\u001b[0;32m    231\u001b[0m                 \u001b[0margs\u001b[0m\u001b[1;33m,\u001b[0m \u001b[0mkw\u001b[0m \u001b[1;33m=\u001b[0m \u001b[0mfix\u001b[0m\u001b[1;33m(\u001b[0m\u001b[0margs\u001b[0m\u001b[1;33m,\u001b[0m \u001b[0mkw\u001b[0m\u001b[1;33m,\u001b[0m \u001b[0msig\u001b[0m\u001b[1;33m)\u001b[0m\u001b[1;33m\u001b[0m\u001b[1;33m\u001b[0m\u001b[0m\n\u001b[1;32m--> 232\u001b[1;33m             \u001b[1;32mreturn\u001b[0m \u001b[0mcaller\u001b[0m\u001b[1;33m(\u001b[0m\u001b[0mfunc\u001b[0m\u001b[1;33m,\u001b[0m \u001b[1;33m*\u001b[0m\u001b[1;33m(\u001b[0m\u001b[0mextras\u001b[0m \u001b[1;33m+\u001b[0m \u001b[0margs\u001b[0m\u001b[1;33m)\u001b[0m\u001b[1;33m,\u001b[0m \u001b[1;33m**\u001b[0m\u001b[0mkw\u001b[0m\u001b[1;33m)\u001b[0m\u001b[1;33m\u001b[0m\u001b[1;33m\u001b[0m\u001b[0m\n\u001b[0m\u001b[0;32m    233\u001b[0m     \u001b[0mfun\u001b[0m\u001b[1;33m.\u001b[0m\u001b[0m__name__\u001b[0m \u001b[1;33m=\u001b[0m \u001b[0mfunc\u001b[0m\u001b[1;33m.\u001b[0m\u001b[0m__name__\u001b[0m\u001b[1;33m\u001b[0m\u001b[1;33m\u001b[0m\u001b[0m\n\u001b[0;32m    234\u001b[0m     \u001b[0mfun\u001b[0m\u001b[1;33m.\u001b[0m\u001b[0m__doc__\u001b[0m \u001b[1;33m=\u001b[0m \u001b[0mfunc\u001b[0m\u001b[1;33m.\u001b[0m\u001b[0m__doc__\u001b[0m\u001b[1;33m\u001b[0m\u001b[1;33m\u001b[0m\u001b[0m\n",
      "\u001b[1;32m~\\Anaconda\\lib\\site-packages\\IPython\\core\\magic.py\u001b[0m in \u001b[0;36m<lambda>\u001b[1;34m(f, *a, **k)\u001b[0m\n\u001b[0;32m    185\u001b[0m     \u001b[1;31m# but it's overkill for just that one bit of state.\u001b[0m\u001b[1;33m\u001b[0m\u001b[1;33m\u001b[0m\u001b[0m\n\u001b[0;32m    186\u001b[0m     \u001b[1;32mdef\u001b[0m \u001b[0mmagic_deco\u001b[0m\u001b[1;33m(\u001b[0m\u001b[0marg\u001b[0m\u001b[1;33m)\u001b[0m\u001b[1;33m:\u001b[0m\u001b[1;33m\u001b[0m\u001b[1;33m\u001b[0m\u001b[0m\n\u001b[1;32m--> 187\u001b[1;33m         \u001b[0mcall\u001b[0m \u001b[1;33m=\u001b[0m \u001b[1;32mlambda\u001b[0m \u001b[0mf\u001b[0m\u001b[1;33m,\u001b[0m \u001b[1;33m*\u001b[0m\u001b[0ma\u001b[0m\u001b[1;33m,\u001b[0m \u001b[1;33m**\u001b[0m\u001b[0mk\u001b[0m\u001b[1;33m:\u001b[0m \u001b[0mf\u001b[0m\u001b[1;33m(\u001b[0m\u001b[1;33m*\u001b[0m\u001b[0ma\u001b[0m\u001b[1;33m,\u001b[0m \u001b[1;33m**\u001b[0m\u001b[0mk\u001b[0m\u001b[1;33m)\u001b[0m\u001b[1;33m\u001b[0m\u001b[1;33m\u001b[0m\u001b[0m\n\u001b[0m\u001b[0;32m    188\u001b[0m \u001b[1;33m\u001b[0m\u001b[0m\n\u001b[0;32m    189\u001b[0m         \u001b[1;32mif\u001b[0m \u001b[0mcallable\u001b[0m\u001b[1;33m(\u001b[0m\u001b[0marg\u001b[0m\u001b[1;33m)\u001b[0m\u001b[1;33m:\u001b[0m\u001b[1;33m\u001b[0m\u001b[1;33m\u001b[0m\u001b[0m\n",
      "\u001b[1;32m~\\Anaconda\\lib\\site-packages\\IPython\\core\\magics\\script.py\u001b[0m in \u001b[0;36mshebang\u001b[1;34m(self, line, cell)\u001b[0m\n\u001b[0;32m    243\u001b[0m             \u001b[0msys\u001b[0m\u001b[1;33m.\u001b[0m\u001b[0mstderr\u001b[0m\u001b[1;33m.\u001b[0m\u001b[0mflush\u001b[0m\u001b[1;33m(\u001b[0m\u001b[1;33m)\u001b[0m\u001b[1;33m\u001b[0m\u001b[1;33m\u001b[0m\u001b[0m\n\u001b[0;32m    244\u001b[0m         \u001b[1;32mif\u001b[0m \u001b[0margs\u001b[0m\u001b[1;33m.\u001b[0m\u001b[0mraise_error\u001b[0m \u001b[1;32mand\u001b[0m \u001b[0mp\u001b[0m\u001b[1;33m.\u001b[0m\u001b[0mreturncode\u001b[0m\u001b[1;33m!=\u001b[0m\u001b[1;36m0\u001b[0m\u001b[1;33m:\u001b[0m\u001b[1;33m\u001b[0m\u001b[1;33m\u001b[0m\u001b[0m\n\u001b[1;32m--> 245\u001b[1;33m             \u001b[1;32mraise\u001b[0m \u001b[0mCalledProcessError\u001b[0m\u001b[1;33m(\u001b[0m\u001b[0mp\u001b[0m\u001b[1;33m.\u001b[0m\u001b[0mreturncode\u001b[0m\u001b[1;33m,\u001b[0m \u001b[0mcell\u001b[0m\u001b[1;33m,\u001b[0m \u001b[0moutput\u001b[0m\u001b[1;33m=\u001b[0m\u001b[0mout\u001b[0m\u001b[1;33m,\u001b[0m \u001b[0mstderr\u001b[0m\u001b[1;33m=\u001b[0m\u001b[0merr\u001b[0m\u001b[1;33m)\u001b[0m\u001b[1;33m\u001b[0m\u001b[1;33m\u001b[0m\u001b[0m\n\u001b[0m\u001b[0;32m    246\u001b[0m \u001b[1;33m\u001b[0m\u001b[0m\n\u001b[0;32m    247\u001b[0m     \u001b[1;32mdef\u001b[0m \u001b[0m_run_script\u001b[0m\u001b[1;33m(\u001b[0m\u001b[0mself\u001b[0m\u001b[1;33m,\u001b[0m \u001b[0mp\u001b[0m\u001b[1;33m,\u001b[0m \u001b[0mcell\u001b[0m\u001b[1;33m,\u001b[0m \u001b[0mto_close\u001b[0m\u001b[1;33m)\u001b[0m\u001b[1;33m:\u001b[0m\u001b[1;33m\u001b[0m\u001b[1;33m\u001b[0m\u001b[0m\n",
      "\u001b[1;31mCalledProcessError\u001b[0m: Command 'b'pip install metapub\\n'' returned non-zero exit status 127."
     ]
    }
   ],
   "source": [
    "%%bash\n",
    "pip install metapub"
   ]
  },
  {
   "cell_type": "code",
   "execution_count": 17,
   "metadata": {},
   "outputs": [
    {
     "name": "stderr",
     "output_type": "stream",
     "text": [
      "-bash: line 1: pip: command not found\n",
      "from: can't read /var/mail/urllib.request\n",
      "from: can't read /var/mail/urllib.parse\n",
      "from: can't read /var/mail/lxml\n",
      "-bash: line 8: author_name: command not found\n",
      "-bash: line 9: base_url: command not found\n",
      "-bash: line 10: syntax error near unexpected token `('\n",
      "-bash: line 10: `url = base_url+ urlencode({\"db\": \"pubmed\", \"term\": author_name+\"[author]\", \"retmax\": 30})  #db = database'\n"
     ]
    },
    {
     "ename": "CalledProcessError",
     "evalue": "Command 'b'pip install metapub\\n\\nfrom urllib.request import urlopen\\nfrom urllib.parse import urlencode \\nfrom lxml import etree  #modul zeby otworzyc pliki XML\\n\\n##########NASZE ZAPYTANIE\\nauthor_name = \"Krzysztof Murzyn\"\\nbase_url = \"https://eutils.ncbi.nlm.nih.gov/entrez/eutils/esearch.fcgi?\"\\nurl = base_url+ urlencode({\"db\": \"pubmed\", \"term\": author_name+\"[author]\", \"retmax\": 30})  #db = database\\n#########################\\n\\n#########OTWORZ URL I PRZECZYTAJ XML\\nresponse = urlopen(url)\\nresultxml = response.read()\\nxml = etree.XML(resultxml)\\n####################################\\n\\nresultelements = xml.xpath(\"//Id\") #wszystkie tytu\\xc5\\x82y prac autora\\n\\npmid\\nfor elem in resultelements:\\n    print([elem.text])\\n    \\ntitles = {}\\nfor pmid in pmids:\\n    titles[pmid] = fetch.article_by_pmid(pmid).title\\nTitle = pd.DataFrame(list(titles.items()),columns = [\\'pmid\\',\\'Title\\'])\\nTitle\\n\\n'' returned non-zero exit status 2.",
     "output_type": "error",
     "traceback": [
      "\u001b[1;31m---------------------------------------------------------------------------\u001b[0m",
      "\u001b[1;31mCalledProcessError\u001b[0m                        Traceback (most recent call last)",
      "\u001b[1;32m~\\AppData\\Local\\Temp/ipykernel_12280/3323379505.py\u001b[0m in \u001b[0;36m<module>\u001b[1;34m\u001b[0m\n\u001b[1;32m----> 1\u001b[1;33m \u001b[0mget_ipython\u001b[0m\u001b[1;33m(\u001b[0m\u001b[1;33m)\u001b[0m\u001b[1;33m.\u001b[0m\u001b[0mrun_cell_magic\u001b[0m\u001b[1;33m(\u001b[0m\u001b[1;34m'bash'\u001b[0m\u001b[1;33m,\u001b[0m \u001b[1;34m''\u001b[0m\u001b[1;33m,\u001b[0m \u001b[1;34m'pip install metapub\\n\\nfrom urllib.request import urlopen\\nfrom urllib.parse import urlencode \\nfrom lxml import etree  #modul zeby otworzyc pliki XML\\n\\n##########NASZE ZAPYTANIE\\nauthor_name = \"Krzysztof Murzyn\"\\nbase_url = \"https://eutils.ncbi.nlm.nih.gov/entrez/eutils/esearch.fcgi?\"\\nurl = base_url+ urlencode({\"db\": \"pubmed\", \"term\": author_name+\"[author]\", \"retmax\": 30})  #db = database\\n#########################\\n\\n#########OTWORZ URL I PRZECZYTAJ XML\\nresponse = urlopen(url)\\nresultxml = response.read()\\nxml = etree.XML(resultxml)\\n####################################\\n\\nresultelements = xml.xpath(\"//Id\") #wszystkie tytuły prac autora\\n\\npmid\\nfor elem in resultelements:\\n    print([elem.text])\\n    \\ntitles = {}\\nfor pmid in pmids:\\n    titles[pmid] = fetch.article_by_pmid(pmid).title\\nTitle = pd.DataFrame(list(titles.items()),columns = [\\'pmid\\',\\'Title\\'])\\nTitle\\n\\n'\u001b[0m\u001b[1;33m)\u001b[0m\u001b[1;33m\u001b[0m\u001b[1;33m\u001b[0m\u001b[0m\n\u001b[0m",
      "\u001b[1;32m~\\Anaconda\\lib\\site-packages\\IPython\\core\\interactiveshell.py\u001b[0m in \u001b[0;36mrun_cell_magic\u001b[1;34m(self, magic_name, line, cell)\u001b[0m\n\u001b[0;32m   2404\u001b[0m             \u001b[1;32mwith\u001b[0m \u001b[0mself\u001b[0m\u001b[1;33m.\u001b[0m\u001b[0mbuiltin_trap\u001b[0m\u001b[1;33m:\u001b[0m\u001b[1;33m\u001b[0m\u001b[1;33m\u001b[0m\u001b[0m\n\u001b[0;32m   2405\u001b[0m                 \u001b[0margs\u001b[0m \u001b[1;33m=\u001b[0m \u001b[1;33m(\u001b[0m\u001b[0mmagic_arg_s\u001b[0m\u001b[1;33m,\u001b[0m \u001b[0mcell\u001b[0m\u001b[1;33m)\u001b[0m\u001b[1;33m\u001b[0m\u001b[1;33m\u001b[0m\u001b[0m\n\u001b[1;32m-> 2406\u001b[1;33m                 \u001b[0mresult\u001b[0m \u001b[1;33m=\u001b[0m \u001b[0mfn\u001b[0m\u001b[1;33m(\u001b[0m\u001b[1;33m*\u001b[0m\u001b[0margs\u001b[0m\u001b[1;33m,\u001b[0m \u001b[1;33m**\u001b[0m\u001b[0mkwargs\u001b[0m\u001b[1;33m)\u001b[0m\u001b[1;33m\u001b[0m\u001b[1;33m\u001b[0m\u001b[0m\n\u001b[0m\u001b[0;32m   2407\u001b[0m             \u001b[1;32mreturn\u001b[0m \u001b[0mresult\u001b[0m\u001b[1;33m\u001b[0m\u001b[1;33m\u001b[0m\u001b[0m\n\u001b[0;32m   2408\u001b[0m \u001b[1;33m\u001b[0m\u001b[0m\n",
      "\u001b[1;32m~\\Anaconda\\lib\\site-packages\\IPython\\core\\magics\\script.py\u001b[0m in \u001b[0;36mnamed_script_magic\u001b[1;34m(line, cell)\u001b[0m\n\u001b[0;32m    140\u001b[0m             \u001b[1;32melse\u001b[0m\u001b[1;33m:\u001b[0m\u001b[1;33m\u001b[0m\u001b[1;33m\u001b[0m\u001b[0m\n\u001b[0;32m    141\u001b[0m                 \u001b[0mline\u001b[0m \u001b[1;33m=\u001b[0m \u001b[0mscript\u001b[0m\u001b[1;33m\u001b[0m\u001b[1;33m\u001b[0m\u001b[0m\n\u001b[1;32m--> 142\u001b[1;33m             \u001b[1;32mreturn\u001b[0m \u001b[0mself\u001b[0m\u001b[1;33m.\u001b[0m\u001b[0mshebang\u001b[0m\u001b[1;33m(\u001b[0m\u001b[0mline\u001b[0m\u001b[1;33m,\u001b[0m \u001b[0mcell\u001b[0m\u001b[1;33m)\u001b[0m\u001b[1;33m\u001b[0m\u001b[1;33m\u001b[0m\u001b[0m\n\u001b[0m\u001b[0;32m    143\u001b[0m \u001b[1;33m\u001b[0m\u001b[0m\n\u001b[0;32m    144\u001b[0m         \u001b[1;31m# write a basic docstring:\u001b[0m\u001b[1;33m\u001b[0m\u001b[1;33m\u001b[0m\u001b[0m\n",
      "\u001b[1;32m~\\Anaconda\\lib\\site-packages\\decorator.py\u001b[0m in \u001b[0;36mfun\u001b[1;34m(*args, **kw)\u001b[0m\n\u001b[0;32m    230\u001b[0m             \u001b[1;32mif\u001b[0m \u001b[1;32mnot\u001b[0m \u001b[0mkwsyntax\u001b[0m\u001b[1;33m:\u001b[0m\u001b[1;33m\u001b[0m\u001b[1;33m\u001b[0m\u001b[0m\n\u001b[0;32m    231\u001b[0m                 \u001b[0margs\u001b[0m\u001b[1;33m,\u001b[0m \u001b[0mkw\u001b[0m \u001b[1;33m=\u001b[0m \u001b[0mfix\u001b[0m\u001b[1;33m(\u001b[0m\u001b[0margs\u001b[0m\u001b[1;33m,\u001b[0m \u001b[0mkw\u001b[0m\u001b[1;33m,\u001b[0m \u001b[0msig\u001b[0m\u001b[1;33m)\u001b[0m\u001b[1;33m\u001b[0m\u001b[1;33m\u001b[0m\u001b[0m\n\u001b[1;32m--> 232\u001b[1;33m             \u001b[1;32mreturn\u001b[0m \u001b[0mcaller\u001b[0m\u001b[1;33m(\u001b[0m\u001b[0mfunc\u001b[0m\u001b[1;33m,\u001b[0m \u001b[1;33m*\u001b[0m\u001b[1;33m(\u001b[0m\u001b[0mextras\u001b[0m \u001b[1;33m+\u001b[0m \u001b[0margs\u001b[0m\u001b[1;33m)\u001b[0m\u001b[1;33m,\u001b[0m \u001b[1;33m**\u001b[0m\u001b[0mkw\u001b[0m\u001b[1;33m)\u001b[0m\u001b[1;33m\u001b[0m\u001b[1;33m\u001b[0m\u001b[0m\n\u001b[0m\u001b[0;32m    233\u001b[0m     \u001b[0mfun\u001b[0m\u001b[1;33m.\u001b[0m\u001b[0m__name__\u001b[0m \u001b[1;33m=\u001b[0m \u001b[0mfunc\u001b[0m\u001b[1;33m.\u001b[0m\u001b[0m__name__\u001b[0m\u001b[1;33m\u001b[0m\u001b[1;33m\u001b[0m\u001b[0m\n\u001b[0;32m    234\u001b[0m     \u001b[0mfun\u001b[0m\u001b[1;33m.\u001b[0m\u001b[0m__doc__\u001b[0m \u001b[1;33m=\u001b[0m \u001b[0mfunc\u001b[0m\u001b[1;33m.\u001b[0m\u001b[0m__doc__\u001b[0m\u001b[1;33m\u001b[0m\u001b[1;33m\u001b[0m\u001b[0m\n",
      "\u001b[1;32m~\\Anaconda\\lib\\site-packages\\IPython\\core\\magic.py\u001b[0m in \u001b[0;36m<lambda>\u001b[1;34m(f, *a, **k)\u001b[0m\n\u001b[0;32m    185\u001b[0m     \u001b[1;31m# but it's overkill for just that one bit of state.\u001b[0m\u001b[1;33m\u001b[0m\u001b[1;33m\u001b[0m\u001b[0m\n\u001b[0;32m    186\u001b[0m     \u001b[1;32mdef\u001b[0m \u001b[0mmagic_deco\u001b[0m\u001b[1;33m(\u001b[0m\u001b[0marg\u001b[0m\u001b[1;33m)\u001b[0m\u001b[1;33m:\u001b[0m\u001b[1;33m\u001b[0m\u001b[1;33m\u001b[0m\u001b[0m\n\u001b[1;32m--> 187\u001b[1;33m         \u001b[0mcall\u001b[0m \u001b[1;33m=\u001b[0m \u001b[1;32mlambda\u001b[0m \u001b[0mf\u001b[0m\u001b[1;33m,\u001b[0m \u001b[1;33m*\u001b[0m\u001b[0ma\u001b[0m\u001b[1;33m,\u001b[0m \u001b[1;33m**\u001b[0m\u001b[0mk\u001b[0m\u001b[1;33m:\u001b[0m \u001b[0mf\u001b[0m\u001b[1;33m(\u001b[0m\u001b[1;33m*\u001b[0m\u001b[0ma\u001b[0m\u001b[1;33m,\u001b[0m \u001b[1;33m**\u001b[0m\u001b[0mk\u001b[0m\u001b[1;33m)\u001b[0m\u001b[1;33m\u001b[0m\u001b[1;33m\u001b[0m\u001b[0m\n\u001b[0m\u001b[0;32m    188\u001b[0m \u001b[1;33m\u001b[0m\u001b[0m\n\u001b[0;32m    189\u001b[0m         \u001b[1;32mif\u001b[0m \u001b[0mcallable\u001b[0m\u001b[1;33m(\u001b[0m\u001b[0marg\u001b[0m\u001b[1;33m)\u001b[0m\u001b[1;33m:\u001b[0m\u001b[1;33m\u001b[0m\u001b[1;33m\u001b[0m\u001b[0m\n",
      "\u001b[1;32m~\\Anaconda\\lib\\site-packages\\IPython\\core\\magics\\script.py\u001b[0m in \u001b[0;36mshebang\u001b[1;34m(self, line, cell)\u001b[0m\n\u001b[0;32m    243\u001b[0m             \u001b[0msys\u001b[0m\u001b[1;33m.\u001b[0m\u001b[0mstderr\u001b[0m\u001b[1;33m.\u001b[0m\u001b[0mflush\u001b[0m\u001b[1;33m(\u001b[0m\u001b[1;33m)\u001b[0m\u001b[1;33m\u001b[0m\u001b[1;33m\u001b[0m\u001b[0m\n\u001b[0;32m    244\u001b[0m         \u001b[1;32mif\u001b[0m \u001b[0margs\u001b[0m\u001b[1;33m.\u001b[0m\u001b[0mraise_error\u001b[0m \u001b[1;32mand\u001b[0m \u001b[0mp\u001b[0m\u001b[1;33m.\u001b[0m\u001b[0mreturncode\u001b[0m\u001b[1;33m!=\u001b[0m\u001b[1;36m0\u001b[0m\u001b[1;33m:\u001b[0m\u001b[1;33m\u001b[0m\u001b[1;33m\u001b[0m\u001b[0m\n\u001b[1;32m--> 245\u001b[1;33m             \u001b[1;32mraise\u001b[0m \u001b[0mCalledProcessError\u001b[0m\u001b[1;33m(\u001b[0m\u001b[0mp\u001b[0m\u001b[1;33m.\u001b[0m\u001b[0mreturncode\u001b[0m\u001b[1;33m,\u001b[0m \u001b[0mcell\u001b[0m\u001b[1;33m,\u001b[0m \u001b[0moutput\u001b[0m\u001b[1;33m=\u001b[0m\u001b[0mout\u001b[0m\u001b[1;33m,\u001b[0m \u001b[0mstderr\u001b[0m\u001b[1;33m=\u001b[0m\u001b[0merr\u001b[0m\u001b[1;33m)\u001b[0m\u001b[1;33m\u001b[0m\u001b[1;33m\u001b[0m\u001b[0m\n\u001b[0m\u001b[0;32m    246\u001b[0m \u001b[1;33m\u001b[0m\u001b[0m\n\u001b[0;32m    247\u001b[0m     \u001b[1;32mdef\u001b[0m \u001b[0m_run_script\u001b[0m\u001b[1;33m(\u001b[0m\u001b[0mself\u001b[0m\u001b[1;33m,\u001b[0m \u001b[0mp\u001b[0m\u001b[1;33m,\u001b[0m \u001b[0mcell\u001b[0m\u001b[1;33m,\u001b[0m \u001b[0mto_close\u001b[0m\u001b[1;33m)\u001b[0m\u001b[1;33m:\u001b[0m\u001b[1;33m\u001b[0m\u001b[1;33m\u001b[0m\u001b[0m\n",
      "\u001b[1;31mCalledProcessError\u001b[0m: Command 'b'pip install metapub\\n\\nfrom urllib.request import urlopen\\nfrom urllib.parse import urlencode \\nfrom lxml import etree  #modul zeby otworzyc pliki XML\\n\\n##########NASZE ZAPYTANIE\\nauthor_name = \"Krzysztof Murzyn\"\\nbase_url = \"https://eutils.ncbi.nlm.nih.gov/entrez/eutils/esearch.fcgi?\"\\nurl = base_url+ urlencode({\"db\": \"pubmed\", \"term\": author_name+\"[author]\", \"retmax\": 30})  #db = database\\n#########################\\n\\n#########OTWORZ URL I PRZECZYTAJ XML\\nresponse = urlopen(url)\\nresultxml = response.read()\\nxml = etree.XML(resultxml)\\n####################################\\n\\nresultelements = xml.xpath(\"//Id\") #wszystkie tytu\\xc5\\x82y prac autora\\n\\npmid\\nfor elem in resultelements:\\n    print([elem.text])\\n    \\ntitles = {}\\nfor pmid in pmids:\\n    titles[pmid] = fetch.article_by_pmid(pmid).title\\nTitle = pd.DataFrame(list(titles.items()),columns = [\\'pmid\\',\\'Title\\'])\\nTitle\\n\\n'' returned non-zero exit status 2."
     ]
    }
   ],
   "source": [
    "%%bash\n",
    "!pip install metapub\n",
    "\n",
    "from urllib.request import urlopen\n",
    "from urllib.parse import urlencode \n",
    "from lxml import etree  #modul zeby otworzyc pliki XML\n",
    "\n",
    "##########NASZE ZAPYTANIE\n",
    "author_name = \"Krzysztof Murzyn\"\n",
    "base_url = \"https://eutils.ncbi.nlm.nih.gov/entrez/eutils/esearch.fcgi?\"\n",
    "url = base_url+ urlencode({\"db\": \"pubmed\", \"term\": author_name+\"[author]\", \"retmax\": 30})  #db = database\n",
    "#########################\n",
    "\n",
    "#########OTWORZ URL I PRZECZYTAJ XML\n",
    "response = urlopen(url)\n",
    "resultxml = response.read()\n",
    "xml = etree.XML(resultxml)\n",
    "####################################\n",
    "\n",
    "resultelements = xml.xpath(\"//Id\") #wszystkie tytuły prac autora\n",
    "\n",
    "pmid\n",
    "for elem in resultelements:\n",
    "    print([elem.text])\n",
    "    \n",
    "titles = {}\n",
    "for pmid in pmids:\n",
    "    titles[pmid] = fetch.article_by_pmid(pmid).title\n",
    "Title = pd.DataFrame(list(titles.items()),columns = ['pmid','Title'])\n",
    "Title\n",
    "\n"
   ]
  },
  {
   "cell_type": "markdown",
   "metadata": {},
   "source": [
    "<h3> Nucleotide"
   ]
  },
  {
   "cell_type": "code",
   "execution_count": 11,
   "metadata": {},
   "outputs": [],
   "source": [
    "from urllib.request import urlopen\n",
    "from lxml import etree\n",
    "\n",
    "\n",
    "##########NASZE ZAPYTANIE\n",
    "ID = 'U20285.2' # id sekwencji\n",
    "baseurl = \"https://eutils.ncbi.nlm.nih.gov/entrez/eutils/efetch.fcgi?\"\n",
    "query = \"db=nucleotide&id=\"+ID+\"&format=xml\" \n",
    "url = baseurl+query\n",
    "########################\n",
    "\n",
    "#########OTWORZ URL I PRZECZYTAJ XML\n",
    "f = urlopen(url) \n",
    "resultxml = f.read() \n",
    "xml = etree.XML(resultxml) \n",
    "###################################"
   ]
  },
  {
   "cell_type": "code",
   "execution_count": 17,
   "metadata": {},
   "outputs": [
    {
     "name": "stdout",
     "output_type": "stream",
     "text": [
      "['GBSeq', 'GBInterval_accession', 'GBReference', 'GBSeq_primary-accession', 'GBSeq_definition', 'GBReference_reference', 'GBSeq_moltype', 'GBSeq_topology', 'GBInterval', 'GBInterval_to', 'GBQualifier_name', 'GBReference_journal', 'GBReference_title', 'GBFeature_quals', 'GBAuthor', 'GBReference_remark', 'GBReference_authors', 'GBSeq_sequence', 'GBFeature_location', 'GBSeq_organism', 'GBQualifier', 'GBQualifier_value', 'GBSeq_taxonomy', 'GBSeq_create-date', 'GBInterval_point', 'GBSeq_length', 'GBFeature', 'GBSeq_accession-version', 'GBSeq_feature-table', 'GBSet', 'GBSeq_update-date', 'GBSeq_division', 'GBFeature_key', 'GBSeq_other-seqids', 'GBInterval_from', 'GBSeq_locus', 'GBReference_pubmed', 'GBFeature_intervals', 'GBSeq_comment', 'GBSeq_references', 'GBReference_position', 'GBSeqid', 'GBSeq_source', 'GBSeq_strandedness']\n"
     ]
    }
   ],
   "source": [
    "tags = list({elem.tag for elem in xml.iter()}) #co sie mogę dowiedziec o tej sekwencji?\n",
    "\n",
    "print(tags)"
   ]
  },
  {
   "cell_type": "code",
   "execution_count": 45,
   "metadata": {},
   "outputs": [
    {
     "name": "stdout",
     "output_type": "stream",
     "text": [
      "tctctgaagttccagaatcgatggaagtggacggcacgccgcggcggggtgggtgcaagatgccgctgccggttcaggtgtttaacttgcagggggccgtggagcccatgcagatcgacgtggacccccaggaagacccgcagaatgcacctgacgtcaactacgtggtggagaaccccagcctggatctggaacagtacgcggccagctacagcggcctgatgcgcatcgaacggctgcagttcattgctgatcactgccccacgctgcgggtggaggccctgaagatggccctctccttcgtgcagagaacctttaacgtggacatgtacgaggagatccaccgcaagctctcagaggccaccagggagctgcagaacgcacccgacgccatccctgagagcggcgtggagcccccagccctggacacggcctgggtggaggccacgcggaagaaggcgctgctgaagctggagaagctggacacagacctgaagaactacaagggcaactccatcaaagagagcatccggcgcggccacgacgacctgggcgaccactacctggactgtggggacctcagcaacgccctcaagtgctattcccgggcccgggactactgcaccagcgccaaacacgtcatcaacatgtgcctcaatgtcatcaaggtcagcgtctacttgcagaattggtctcatgtgctcagctacgtcagcaaggctgagtccaccccagagattgccgagcagcgaggagagcgtgacagccagacccaggccatcctcaccaagctcaagtgtgccgcaggcttggcagagctggccgccaggaagtacaagcaggctgccaagtgcctcctgctggcttcctttgatcactgtgacttccctgagctgctgtcccccagcaacgtggccatctacggtggcctgtgcgccttggctacctttgaccggcaggagctgcagcgcaatgtcatctccagcagctccttcaagttgttcttggagctggagccacaggtccgagacatcatcttcaaattctacgagtccaagtacgcctcatgtctcaagatgctggacgagatgaaggacaacctgctcctggacatgtatctggccccccatgtcaggaccctgtacacccagattcgcaaccgtgccctcatccagtatttcagcccctacgtgtcagccgacatgcataggatggcggcagccttcaataccacggtggccgccctggaggacgagctgacgcagctaatcctggaggggctgatcagtgcccgtgtggactcacacagcaagatcctatacgcccgggacgtggatcagcgcagcaccacctttgagaagtctctgttgatgggcaaggagttccagcgccgcgccaaggccatgatgctgcgggcagctgtgctccgcaaccagatccatgtcaagtccccgcccagagaagggagccagggggagctgactccagccaacagccagtcccggatgagcaccaacatgtgaggggtgaaccttggcctccaggacatctgcaccccctccccacctccacggacctcggacctccaggcggctcagtgctgcctgcggcccagctaaggggcctggccactgggtgccacccagcctgtgtgccctccctggggctgaggaggcaggcggctgctagttgtggcccttcctggaaggagaggcctgcagggctcgaccctgtgggtttctgtccccagggagcagactgtgcggcacccaggcccagtggcaccatttcccagacccctcctgttcccgcctcagtcaggtgcagacaagtgggcggtgtccattaaagagcagactcagcgtt\n"
     ]
    }
   ],
   "source": [
    "resultelements = xml.xpath(\"//GBSeq_sequence\") #sekwencja\n",
    "\n",
    "for element in resultelements:\n",
    "    print(element.text)"
   ]
  },
  {
   "cell_type": "markdown",
   "metadata": {},
   "source": [
    "<h4> Zadanie3: \n",
    "    \n",
    "    Z bazy Nucleotide pobierz sekwencje o następującach ID: NM_001012006.1, MK560199.1, AB046569.1. \n",
    "    \n",
    "    Zapisz je do pliku w formacie FASTA, gdzie nazwa odpowiada organizmowi z którego dana sekwencja pochodzi \n",
    "    [GBSeq_organism], natomiast sama sekwencja znajduje się w [GBSeq_sequence]"
   ]
  },
  {
   "cell_type": "markdown",
   "metadata": {},
   "source": [
    "<h3>PubChem"
   ]
  },
  {
   "cell_type": "markdown",
   "metadata": {},
   "source": [
    "<h4> Szukamy synonimów słowa aspiryna"
   ]
  },
  {
   "cell_type": "code",
   "execution_count": 12,
   "metadata": {},
   "outputs": [],
   "source": [
    "from urllib.request import urlopen\n",
    "from lxml import etree"
   ]
  },
  {
   "cell_type": "code",
   "execution_count": 13,
   "metadata": {},
   "outputs": [],
   "source": [
    "#zapytanie/pobranie i odczytanie pliku XML\n",
    "query = \"https://pubchem.ncbi.nlm.nih.gov/rest/pug/compound/name/aspirin/synonyms/XML\"\n",
    "response = urlopen(query)\n",
    "resultxml = response.read()\n",
    "tree = etree.XML(resultxml)"
   ]
  },
  {
   "cell_type": "code",
   "execution_count": 14,
   "metadata": {},
   "outputs": [],
   "source": [
    "synonyms = []\n",
    "for elem in tree.iter():\n",
    "    if elem.tag == \"{http://pubchem.ncbi.nlm.nih.gov/pug_rest}Synonym\":\n",
    "        synonyms.append(elem.text)"
   ]
  },
  {
   "cell_type": "code",
   "execution_count": 15,
   "metadata": {},
   "outputs": [
    {
     "name": "stdout",
     "output_type": "stream",
     "text": [
      "['aspirin', 'ACETYLSALICYLIC ACID', '50-78-2', '2-Acetoxybenzoic acid', '2-(Acetyloxy)benzoic acid', 'O-Acetylsalicylic acid', 'o-Acetoxybenzoic acid', 'Acylpyrin', 'Easprin', 'Ecotrin']\n"
     ]
    }
   ],
   "source": [
    "print(synonyms[:10]) #pierwsze 10 synonimow"
   ]
  },
  {
   "cell_type": "markdown",
   "metadata": {},
   "source": [
    "<h4> Pobieranie struktury związków chemicznych w oparciu o format SMILES"
   ]
  },
  {
   "cell_type": "code",
   "execution_count": 54,
   "metadata": {},
   "outputs": [
    {
     "data": {
      "image/png": "[encoded data removed]",
      "text/plain": [
       "<IPython.core.display.Image object>"
      ]
     },
     "execution_count": 54,
     "metadata": {},
     "output_type": "execute_result"
    }
   ],
   "source": [
    "from urllib.request import urlretrieve\n",
    "from IPython.display import Image  #do wyswietlania obrazka\n",
    "\n",
    "smiles = 'C(=O)(O)CS'\n",
    "urlretrieve('https://pubchem.ncbi.nlm.nih.gov/rest/pug/compound/smiles/'+smiles+'/PNG', 'smi_pic.png')\n",
    "p = Image(filename='smi_pic.png')\n",
    "p"
   ]
  },
  {
   "cell_type": "code",
   "execution_count": 17,
   "metadata": {},
   "outputs": [
    {
     "data": {
      "image/png": "[encoded data removed]",
      "text/plain": [
       "<IPython.core.display.Image object>"
      ]
     },
     "execution_count": 17,
     "metadata": {},
     "output_type": "execute_result"
    }
   ],
   "source": [
    "from urllib.request import urlretrieve\n",
    "from IPython.display import Image  #do wyswietlania obrazka\n",
    "\n",
    "smiles = 'NC1=NC(C)=C(C2=CC=C(S(=O)(C)=O)C(F)=C2)S1'\n",
    "urlretrieve('https://pubchem.ncbi.nlm.nih.gov/rest/pug/compound/smiles/'+smiles+'/PNG', 'smi_pic.png')\n",
    "p = Image(filename='smi_pic.png')\n",
    "p"
   ]
  },
  {
   "cell_type": "markdown",
   "metadata": {},
   "source": [
    "<h4> Pobieranie struktury związków chemicznych w oparciu o nazwę związku"
   ]
  },
  {
   "cell_type": "code",
   "execution_count": 18,
   "metadata": {},
   "outputs": [],
   "source": [
    "from urllib.request import urlopen\n",
    "from lxml import etree\n",
    "\n",
    "#zapytanie/pobranie i odczytanie pliku XML\n",
    "query = \"https://pubchem.ncbi.nlm.nih.gov/rest/pug/compound/name/aspirin/XML\"\n",
    "response = urlopen(query)\n",
    "resultxml = response.read()\n",
    "tree = etree.XML(resultxml)"
   ]
  },
  {
   "cell_type": "code",
   "execution_count": 19,
   "metadata": {},
   "outputs": [
    {
     "name": "stdout",
     "output_type": "stream",
     "text": [
      "['{http://www.ncbi.nlm.nih.gov}PC-DrawAnnotations_aid1_E', '{http://www.ncbi.nlm.nih.gov}PC-Count_atom-chiral-def', '{http://www.ncbi.nlm.nih.gov}PC-Compound', '{http://www.ncbi.nlm.nih.gov}PC-Compound_atoms']\n"
     ]
    }
   ],
   "source": [
    "tags = list({elem.tag for elem in tree.iter()})\n",
    "\n",
    "print(tags[:4])"
   ]
  },
  {
   "cell_type": "code",
   "execution_count": 20,
   "metadata": {},
   "outputs": [],
   "source": [
    "sek = []\n",
    "for element in tree.iter():\n",
    "    if element.tag == \"{http://www.ncbi.nlm.nih.gov}PC-InfoData_value_sval\":\n",
    "        sek.append(element.text)"
   ]
  },
  {
   "cell_type": "code",
   "execution_count": 21,
   "metadata": {},
   "outputs": [
    {
     "name": "stdout",
     "output_type": "stream",
     "text": [
      "['2-acetoxybenzoic acid', '2-acetyloxybenzoic acid', '2-acetyloxybenzoic acid', '2-acetyloxybenzoic acid', '2-acetyloxybenzoic acid', '2-acetoxybenzoic acid', 'InChI=1S/C9H8O4/c1-6(10)13-8-5-3-2-4-7(8)9(11)12/h2-5H,1H3,(H,11,12)', 'BSYNRYMUTXBXSQ-UHFFFAOYSA-N', '180.04225873', 'C9H8O4', '180.16', 'CC(=O)OC1=CC=CC=C1C(=O)O', 'CC(=O)OC1=CC=CC=C1C(=O)O', '180.04225873']\n"
     ]
    }
   ],
   "source": [
    "print(sek)"
   ]
  },
  {
   "cell_type": "code",
   "execution_count": 24,
   "metadata": {},
   "outputs": [
    {
     "data": {
      "image/png": "[encoded data removed]",
      "text/plain": [
       "<IPython.core.display.Image object>"
      ]
     },
     "execution_count": 24,
     "metadata": {},
     "output_type": "execute_result"
    }
   ],
   "source": [
    "#Rysuje strukture aspiryny w oparciu o SMILES\n",
    "\n",
    "from urllib.request import urlretrieve\n",
    "from IPython.display import Image\n",
    "\n",
    "\n",
    "smiles = sek[-2] #bo przedostatni element powyzszej listy zawieral format SMILES\n",
    "urlretrieve('https://pubchem.ncbi.nlm.nih.gov/rest/pug/compound/smiles/'+smiles+'/PNG', 'smi_pic.png')\n",
    "p = Image(filename='smi_pic.png')\n",
    "p"
   ]
  },
  {
   "cell_type": "markdown",
   "metadata": {},
   "source": [
    "<h4> Zadanie4: \n",
    "    \n",
    "    Pobierz w formacie SMILES informację o strukturze Lopinavir'u (inhibiora proteazy HIV). \n",
    "    \n",
    "    Jeżeli to możliwe, wykonaj wizualizaję tej struktury."
   ]
  },
  {
   "cell_type": "markdown",
   "metadata": {},
   "source": [
    "<h2> Term Frequency — Inverse Document Frequency (TF-IDF) czyli zliczanie słów w dokumentach"
   ]
  },
  {
   "cell_type": "code",
   "execution_count": 27,
   "metadata": {},
   "outputs": [
    {
     "data": {
      "text/plain": [
       "3"
      ]
     },
     "execution_count": 27,
     "metadata": {},
     "output_type": "execute_result"
    }
   ],
   "source": [
    "documents = [\"new york times\", \"new york post\", \"los angeles times\"]\n",
    "\n",
    "N = len(documents)\n",
    "N"
   ]
  },
  {
   "cell_type": "code",
   "execution_count": 26,
   "metadata": {},
   "outputs": [
    {
     "name": "stdout",
     "output_type": "stream",
     "text": [
      "[['new', 'york', 'times'], ['new', 'york', 'post'], ['los', 'angeles', 'times']]\n"
     ]
    }
   ],
   "source": [
    "bg = [x.split(' ') for x in documents]\n",
    "\n",
    "print(bg)"
   ]
  },
  {
   "cell_type": "code",
   "execution_count": 27,
   "metadata": {},
   "outputs": [
    {
     "name": "stdout",
     "output_type": "stream",
     "text": [
      "{'los', 'york', 'post', 'angeles', 'new', 'times'}\n"
     ]
    }
   ],
   "source": [
    "unique_words = set(sum(bg, []))\n",
    "\n",
    "print(unique_words)"
   ]
  },
  {
   "cell_type": "code",
   "execution_count": 28,
   "metadata": {},
   "outputs": [
    {
     "name": "stdout",
     "output_type": "stream",
     "text": [
      "[{'los': 0, 'york': 1, 'post': 0, 'angeles': 0, 'new': 1, 'times': 1}, {'los': 0, 'york': 1, 'post': 1, 'angeles': 0, 'new': 1, 'times': 0}, {'los': 1, 'york': 0, 'post': 0, 'angeles': 1, 'new': 0, 'times': 1}]\n"
     ]
    }
   ],
   "source": [
    "num_of_words = []\n",
    "\n",
    "for i in range(N):\n",
    "    nw = dict.fromkeys(unique_words,0)\n",
    "    for word in bg[i]:\n",
    "        nw[word]+=1\n",
    "        \n",
    "    num_of_words+=[nw]\n",
    "\n",
    "print(num_of_words)"
   ]
  },
  {
   "cell_type": "code",
   "execution_count": 29,
   "metadata": {},
   "outputs": [],
   "source": [
    "def computeTF(wordDict):\n",
    "    tfDict = {}\n",
    "    M = wordDict.values()\n",
    "    for word, count in wordDict.items():\n",
    "        tfDict[word] = count/max(M)\n",
    "    return tfDict"
   ]
  },
  {
   "cell_type": "code",
   "execution_count": 30,
   "metadata": {},
   "outputs": [
    {
     "name": "stdout",
     "output_type": "stream",
     "text": [
      "[{'los': 0.0, 'york': 1.0, 'post': 0.0, 'angeles': 0.0, 'new': 1.0, 'times': 1.0}, {'los': 0.0, 'york': 1.0, 'post': 1.0, 'angeles': 0.0, 'new': 1.0, 'times': 0.0}, {'los': 1.0, 'york': 0.0, 'post': 0.0, 'angeles': 1.0, 'new': 0.0, 'times': 1.0}]\n"
     ]
    }
   ],
   "source": [
    "tf = [computeTF(num_of_words[i]) for i in range(len(bg))]\n",
    "\n",
    "print(tf)"
   ]
  },
  {
   "cell_type": "code",
   "execution_count": 31,
   "metadata": {},
   "outputs": [],
   "source": [
    "def computeIDF(documents):\n",
    "    import math\n",
    "    N = len(documents)\n",
    "    \n",
    "    idfDict = dict.fromkeys(documents[0].keys(),0)\n",
    "    for document in documents:\n",
    "        for word, val in document.items():\n",
    "            if val>0:\n",
    "                idfDict[word]+=1\n",
    "    for word, val in idfDict.items():\n",
    "        idfDict[word] = math.log2(N/float(val))\n",
    "    return idfDict"
   ]
  },
  {
   "cell_type": "code",
   "execution_count": 32,
   "metadata": {},
   "outputs": [
    {
     "name": "stdout",
     "output_type": "stream",
     "text": [
      "{'los': 1.584962500721156, 'york': 0.5849625007211562, 'post': 1.584962500721156, 'angeles': 1.584962500721156, 'new': 0.5849625007211562, 'times': 0.5849625007211562}\n"
     ]
    }
   ],
   "source": [
    "idfs = computeIDF(num_of_words)\n",
    "\n",
    "print(idfs)"
   ]
  },
  {
   "cell_type": "code",
   "execution_count": 33,
   "metadata": {},
   "outputs": [],
   "source": [
    "def computeTFIDF(tfBag, idfs):\n",
    "    tfidf = {}\n",
    "    for word, val in tfBag.items():\n",
    "        tfidf[word] = val*idfs[word]\n",
    "    return tfidf"
   ]
  },
  {
   "cell_type": "code",
   "execution_count": 34,
   "metadata": {},
   "outputs": [
    {
     "name": "stdout",
     "output_type": "stream",
     "text": [
      "        los      york      post   angeles       new     times\n",
      "0  0.000000  0.584963  0.000000  0.000000  0.584963  0.584963\n",
      "1  0.000000  0.584963  1.584963  0.000000  0.584963  0.000000\n",
      "2  1.584963  0.000000  0.000000  1.584963  0.000000  0.584963\n"
     ]
    }
   ],
   "source": [
    "import pandas as pd #biblioteka do tworzenia ramek danych i operacji na nich\n",
    "\n",
    "df = pd.DataFrame([computeTFIDF(tf[i], idfs) for i in range(N)])\n",
    "print(df)"
   ]
  },
  {
   "cell_type": "code",
   "execution_count": 35,
   "metadata": {},
   "outputs": [
    {
     "data": {
      "text/plain": [
       "los        0.000000\n",
       "york       0.584963\n",
       "post       0.000000\n",
       "angeles    0.000000\n",
       "new        0.584963\n",
       "times      0.584963\n",
       "Name: 0, dtype: float64"
      ]
     },
     "execution_count": 35,
     "metadata": {},
     "output_type": "execute_result"
    }
   ],
   "source": [
    "df.iloc[0] #zerowy wiersz"
   ]
  },
  {
   "cell_type": "code",
   "execution_count": 36,
   "metadata": {},
   "outputs": [
    {
     "data": {
      "text/plain": [
       "Index(['los', 'york', 'post', 'angeles', 'new', 'times'], dtype='object')"
      ]
     },
     "execution_count": 36,
     "metadata": {},
     "output_type": "execute_result"
    }
   ],
   "source": [
    "df.columns #nazwy kolumn"
   ]
  },
  {
   "cell_type": "code",
   "execution_count": 37,
   "metadata": {},
   "outputs": [
    {
     "name": "stdout",
     "output_type": "stream",
     "text": [
      "        los      york      post   angeles       new     times\n",
      "0  0.000000  0.584963  0.000000  0.000000  0.584963  0.584963\n",
      "1  0.000000  0.584963  1.584963  0.000000  0.584963  0.000000\n",
      "2  1.584963  0.000000  0.000000  1.584963  0.000000  0.584963\n"
     ]
    }
   ],
   "source": [
    "#powyzsze funkcjonalnosci TF-IDF spakowalem w postaci modułu\n",
    "\n",
    "import binf2 as b\n",
    "\n",
    "df = b.TFIDF(documents, True)\n",
    "print(df)"
   ]
  },
  {
   "cell_type": "markdown",
   "metadata": {},
   "source": [
    "<h4> Miara cosinusowa"
   ]
  },
  {
   "cell_type": "markdown",
   "metadata": {},
   "source": [
    "$cos(\\alpha) = \\frac{<x,y>}{|x||y|}$"
   ]
  },
  {
   "cell_type": "code",
   "execution_count": 38,
   "metadata": {},
   "outputs": [],
   "source": [
    "def cos_measure(x,y):\n",
    "    import numpy as np\n",
    "    return np.sum(x*y)/(np.sqrt(sum(x**2))*np.sqrt(sum(y**2)))"
   ]
  },
  {
   "cell_type": "code",
   "execution_count": 39,
   "metadata": {},
   "outputs": [
    {
     "data": {
      "text/plain": [
       "(0.3778002039938994, 0.14578946632810497, 0.0)"
      ]
     },
     "execution_count": 39,
     "metadata": {},
     "output_type": "execute_result"
    }
   ],
   "source": [
    "cos_measure(df.iloc[0], df.iloc[1]), cos_measure(df.iloc[0], df.iloc[2]), cos_measure(df.iloc[1], df.iloc[2])  #odleglosc pomiedzy 0 i 1, 0 i 2 oraz 1 i 2 tekstem"
   ]
  },
  {
   "cell_type": "code",
   "execution_count": 40,
   "metadata": {},
   "outputs": [
    {
     "data": {
      "text/html": [
       "<div>\n",
       "<style scoped>\n",
       "    .dataframe tbody tr th:only-of-type {\n",
       "        vertical-align: middle;\n",
       "    }\n",
       "\n",
       "    .dataframe tbody tr th {\n",
       "        vertical-align: top;\n",
       "    }\n",
       "\n",
       "    .dataframe thead th {\n",
       "        text-align: right;\n",
       "    }\n",
       "</style>\n",
       "<table border=\"1\" class=\"dataframe\">\n",
       "  <thead>\n",
       "    <tr style=\"text-align: right;\">\n",
       "      <th></th>\n",
       "      <th>0</th>\n",
       "      <th>1</th>\n",
       "      <th>2</th>\n",
       "    </tr>\n",
       "  </thead>\n",
       "  <tbody>\n",
       "    <tr>\n",
       "      <th>0</th>\n",
       "      <td>1.000000</td>\n",
       "      <td>0.3778</td>\n",
       "      <td>0.145789</td>\n",
       "    </tr>\n",
       "    <tr>\n",
       "      <th>1</th>\n",
       "      <td>0.377800</td>\n",
       "      <td>1.0000</td>\n",
       "      <td>0.000000</td>\n",
       "    </tr>\n",
       "    <tr>\n",
       "      <th>2</th>\n",
       "      <td>0.145789</td>\n",
       "      <td>0.0000</td>\n",
       "      <td>1.000000</td>\n",
       "    </tr>\n",
       "  </tbody>\n",
       "</table>\n",
       "</div>"
      ],
      "text/plain": [
       "          0       1         2\n",
       "0  1.000000  0.3778  0.145789\n",
       "1  0.377800  1.0000  0.000000\n",
       "2  0.145789  0.0000  1.000000"
      ]
     },
     "execution_count": 40,
     "metadata": {},
     "output_type": "execute_result"
    }
   ],
   "source": [
    "from sklearn.metrics.pairwise import cosine_similarity #laduje biblioteke do wyznaczenia macierzy podobienstw\n",
    "import pandas as pd\n",
    "\n",
    "similarity_matrix = cosine_similarity(b.TFIDF(documents, True)) #tworze macierz podobienstw pomiedzy dokumentami\n",
    "similarity_df = pd.DataFrame(similarity_matrix)  #przerabiam na ramke danych\n",
    "similarity_df"
   ]
  },
  {
   "cell_type": "code",
   "execution_count": 42,
   "metadata": {},
   "outputs": [
    {
     "data": {
      "image/png": "[encoded data removed]",
      "text/plain": [
       "<Figure size 288x288 with 1 Axes>"
      ]
     },
     "metadata": {
      "needs_background": "light"
     },
     "output_type": "display_data"
    }
   ],
   "source": [
    "import matplotlib.pyplot as plt #biblioteka do rysowania\n",
    "\n",
    "plt.matshow(similarity_df)\n",
    "plt.show()"
   ]
  },
  {
   "cell_type": "code",
   "execution_count": 43,
   "metadata": {},
   "outputs": [
    {
     "data": {
      "image/png": "[encoded data removed]",
      "text/plain": [
       "<Figure size 576x216 with 1 Axes>"
      ]
     },
     "metadata": {
      "needs_background": "light"
     },
     "output_type": "display_data"
    }
   ],
   "source": [
    "#topologia zależnosci pomiędzy dokumentami na podstawie podobieństw kosinusowych\n",
    "\n",
    "from scipy.cluster.hierarchy import dendrogram, linkage  #przygotowanie do rysowania drzewka ponizej\n",
    "import matplotlib.pyplot as plt  #biblioteka do rysowania\n",
    "\n",
    "Z = linkage(similarity_matrix, 'ward') #na podstawie odleglosci wyzej wyznaczam topologie drzewka w oparciu o metode Warda (klasteryzacja hierarchiczna)\n",
    "\n",
    "\n",
    "plt.figure(figsize=(8, 3))  #wymiar obrazka\n",
    "plt.title('Hierarchical Clustering Dendrogram')\n",
    "plt.xlabel('Data point')\n",
    "plt.ylabel('Distance')\n",
    "dendrogram(Z)\n",
    "plt.show()"
   ]
  },
  {
   "cell_type": "markdown",
   "metadata": {},
   "source": [
    "<h4> Nowe zapytanie"
   ]
  },
  {
   "cell_type": "code",
   "execution_count": 44,
   "metadata": {},
   "outputs": [],
   "source": [
    "# nowe zapytanie (nowy dokument)\n",
    "import re\n",
    "\n",
    "new_doc  = \"new new times\"\n",
    "\n",
    "new_docTF = computeTF({x: len(re.findall('(?='+x+')', new_doc)) for x in df.columns})\n",
    "new_docTFIDF = computeTFIDF(new_docTF, idfs)"
   ]
  },
  {
   "cell_type": "code",
   "execution_count": 45,
   "metadata": {},
   "outputs": [
    {
     "data": {
      "text/plain": [
       "{'los': 0.0,\n",
       " 'york': 0.0,\n",
       " 'post': 0.0,\n",
       " 'angeles': 0.0,\n",
       " 'new': 0.5849625007211562,\n",
       " 'times': 0.2924812503605781}"
      ]
     },
     "execution_count": 45,
     "metadata": {},
     "output_type": "execute_result"
    }
   ],
   "source": [
    "new_docTFIDF"
   ]
  },
  {
   "cell_type": "code",
   "execution_count": 46,
   "metadata": {},
   "outputs": [
    {
     "data": {
      "text/html": [
       "<div>\n",
       "<style scoped>\n",
       "    .dataframe tbody tr th:only-of-type {\n",
       "        vertical-align: middle;\n",
       "    }\n",
       "\n",
       "    .dataframe tbody tr th {\n",
       "        vertical-align: top;\n",
       "    }\n",
       "\n",
       "    .dataframe thead th {\n",
       "        text-align: right;\n",
       "    }\n",
       "</style>\n",
       "<table border=\"1\" class=\"dataframe\">\n",
       "  <thead>\n",
       "    <tr style=\"text-align: right;\">\n",
       "      <th></th>\n",
       "      <th>los</th>\n",
       "      <th>york</th>\n",
       "      <th>post</th>\n",
       "      <th>angeles</th>\n",
       "      <th>new</th>\n",
       "      <th>times</th>\n",
       "    </tr>\n",
       "  </thead>\n",
       "  <tbody>\n",
       "    <tr>\n",
       "      <th>0</th>\n",
       "      <td>0.000000</td>\n",
       "      <td>0.584963</td>\n",
       "      <td>0.000000</td>\n",
       "      <td>0.000000</td>\n",
       "      <td>0.584963</td>\n",
       "      <td>0.584963</td>\n",
       "    </tr>\n",
       "    <tr>\n",
       "      <th>1</th>\n",
       "      <td>0.000000</td>\n",
       "      <td>0.584963</td>\n",
       "      <td>1.584963</td>\n",
       "      <td>0.000000</td>\n",
       "      <td>0.584963</td>\n",
       "      <td>0.000000</td>\n",
       "    </tr>\n",
       "    <tr>\n",
       "      <th>2</th>\n",
       "      <td>1.584963</td>\n",
       "      <td>0.000000</td>\n",
       "      <td>0.000000</td>\n",
       "      <td>1.584963</td>\n",
       "      <td>0.000000</td>\n",
       "      <td>0.584963</td>\n",
       "    </tr>\n",
       "    <tr>\n",
       "      <th>3</th>\n",
       "      <td>0.000000</td>\n",
       "      <td>0.000000</td>\n",
       "      <td>0.000000</td>\n",
       "      <td>0.000000</td>\n",
       "      <td>0.584963</td>\n",
       "      <td>0.292481</td>\n",
       "    </tr>\n",
       "  </tbody>\n",
       "</table>\n",
       "</div>"
      ],
      "text/plain": [
       "        los      york      post   angeles       new     times\n",
       "0  0.000000  0.584963  0.000000  0.000000  0.584963  0.584963\n",
       "1  0.000000  0.584963  1.584963  0.000000  0.584963  0.000000\n",
       "2  1.584963  0.000000  0.000000  1.584963  0.000000  0.584963\n",
       "3  0.000000  0.000000  0.000000  0.000000  0.584963  0.292481"
      ]
     },
     "execution_count": 46,
     "metadata": {},
     "output_type": "execute_result"
    }
   ],
   "source": [
    "df2 = df.append(new_docTFIDF , ignore_index = True) #dołączam nowy dokument na koncu\n",
    "df2"
   ]
  },
  {
   "cell_type": "code",
   "execution_count": 47,
   "metadata": {},
   "outputs": [
    {
     "data": {
      "text/plain": [
       "[0.7745966692414834, 0.29264277965242746, 0.11292803502824349]"
      ]
     },
     "execution_count": 47,
     "metadata": {},
     "output_type": "execute_result"
    }
   ],
   "source": [
    "#podobieństwa cosinusowe nowego dokumentu (3) od pozostalych\n",
    "[cos_measure(df2.iloc[i], df2.iloc[3]) for i in range(3)] #do ktorego z nich jest najbardziej podobny?"
   ]
  },
  {
   "cell_type": "markdown",
   "metadata": {},
   "source": [
    "<h2> Principal component analysis (PCA) - czyli redukcja i wizualizacja danych w 2D"
   ]
  },
  {
   "cell_type": "code",
   "execution_count": 48,
   "metadata": {},
   "outputs": [],
   "source": [
    "from sklearn.preprocessing import StandardScaler #Biblioteka do standaryzacji danych\n",
    "sc = StandardScaler() #standaryzacja danych\n",
    "Xs = sc.fit_transform(df2)"
   ]
  },
  {
   "cell_type": "code",
   "execution_count": 49,
   "metadata": {},
   "outputs": [],
   "source": [
    "#PCA jest algorytmem do redukcji ilosci zmiennych  (w tym przypadku chodzi o zmniejszeniu 4 kolumn do dwoch)\n",
    "from sklearn.decomposition import PCA\n",
    "pca = PCA(n_components=2)\n",
    "pca.fit(Xs)\n",
    "X_pca = pca.transform(Xs)"
   ]
  },
  {
   "cell_type": "code",
   "execution_count": 50,
   "metadata": {},
   "outputs": [
    {
     "data": {
      "image/png": "[encoded data removed]",
      "text/plain": [
       "<Figure size 432x288 with 1 Axes>"
      ]
     },
     "metadata": {
      "needs_background": "light"
     },
     "output_type": "display_data"
    }
   ],
   "source": [
    "import matplotlib.pyplot as plt #biblioteka do rysowania wwykresow\n",
    "\n",
    "plt.scatter(X_pca[:, 0], X_pca[:, 1], alpha=1, c=[\"red\", \"blue\", \"green\", \"yellow\"])\n",
    "plt.show()"
   ]
  },
  {
   "cell_type": "markdown",
   "metadata": {},
   "source": [
    "<h4> Zadanie5: \n",
    "    \n",
    "    Otwórz plik prace.txt zawierający ID wybranych prac z PubMed. Pobierz MeshTerms'y (TAG: DescriptorName) dla każdej pracy.\n",
    "    Prace dotyczą 3 tematyk (po 18 prac na jedną tematykę).\n",
    "    \n",
    "    Efektem powinna być lista list meshtermsów. \n",
    "    \n",
    "    Następnie, używając metody TF-IDF i podobieństwa cosinusowego zwizualizuj podobieństwo pomiędzy pracami (narysuj\n",
    "    macierz). \n",
    "    \n",
    "    Możesz dodatkowo zastosować metodę PCA do redukcji wymiaru i tym samym zaprezentować wyniki w postaci 2D. Skomentuj  \n",
    "    otrzymane wyniki."
   ]
  },
  {
   "cell_type": "code",
   "execution_count": 69,
   "metadata": {},
   "outputs": [
    {
     "data": {
      "text/plain": [
       "<matplotlib.image.AxesImage at 0x244872aeac0>"
      ]
     },
     "execution_count": 69,
     "metadata": {},
     "output_type": "execute_result"
    },
    {
     "data": {
      "image/png": "[encoded data removed]",
      "text/plain": [
       "<Figure size 720x360 with 1 Axes>"
      ]
     },
     "metadata": {
      "needs_background": "light"
     },
     "output_type": "display_data"
    }
   ],
   "source": [
    "#tak powinna wygladac macierz podobienstw"
   ]
  },
  {
   "cell_type": "code",
   "execution_count": 70,
   "metadata": {},
   "outputs": [
    {
     "data": {
      "image/png": "[encoded data removed]",
      "text/plain": [
       "<Figure size 432x288 with 1 Axes>"
      ]
     },
     "metadata": {
      "needs_background": "light"
     },
     "output_type": "display_data"
    }
   ],
   "source": [
    "#tak moze wygladac wykres po zastosowaniu PCA"
   ]
  },
  {
   "cell_type": "code",
   "execution_count": null,
   "metadata": {},
   "outputs": [],
   "source": [
    "#przy pobieraniu duzej liczby rekordow warto zastosowac time.sleep(1) z modulu time"
   ]
  }
 ],
 "metadata": {
  "kernelspec": {
   "display_name": "Python 3 (ipykernel)",
   "language": "python",
   "name": "python3"
  },
  "language_info": {
   "codemirror_mode": {
    "name": "ipython",
    "version": 3
   },
   "file_extension": ".py",
   "mimetype": "text/x-python",
   "name": "python",
   "nbconvert_exporter": "python",
   "pygments_lexer": "ipython3",
   "version": "3.9.7"
  }
 },
 "nbformat": 4,
 "nbformat_minor": 2
}
